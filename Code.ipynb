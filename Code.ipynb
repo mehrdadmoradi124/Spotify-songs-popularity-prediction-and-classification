{
  "nbformat": 4,
  "nbformat_minor": 0,
  "metadata": {
    "colab": {
      "name": "Copy of DM-Project-13992.ipynb",
      "provenance": [],
      "collapsed_sections": [
        "ioJ6bOvfbBF0",
        "0u-RuWJUampa",
        "g3gDc3HMse-g",
        "9g9h58Ipwmk0",
        "LJ3ktopUqWPb",
        "XRseLrMns8Pf",
        "_KwNwXpqTTqF",
        "jwgEZvwnXwEZ",
        "CC3jD0HoZFqE"
      ]
    },
    "kernelspec": {
      "display_name": "Python 3",
      "name": "python3"
    },
    "language_info": {
      "name": "python"
    }
  },
  "cells": [
    {
      "cell_type": "markdown",
      "metadata": {
        "id": "ioJ6bOvfbBF0"
      },
      "source": [
        "# **Importing**"
      ]
    },
    {
      "cell_type": "markdown",
      "metadata": {
        "id": "MWeE0ekLZkwh"
      },
      "source": [
        "Importing Drive"
      ]
    },
    {
      "cell_type": "code",
      "metadata": {
        "colab": {
          "base_uri": "https://localhost:8080/"
        },
        "id": "_xt6WQPnHRG6",
        "outputId": "4f529367-ebbb-424e-d287-50a24b5d6db3"
      },
      "source": [
        "from google.colab import drive\n",
        "drive.mount('/content/gdrive')\n"
      ],
      "execution_count": 1,
      "outputs": [
        {
          "output_type": "stream",
          "text": [
            "Mounted at /content/gdrive\n"
          ],
          "name": "stdout"
        }
      ]
    },
    {
      "cell_type": "markdown",
      "metadata": {
        "id": "Gq_35KmLZ0HV"
      },
      "source": [
        "Importing Packages"
      ]
    },
    {
      "cell_type": "code",
      "metadata": {
        "id": "dKzYuQwz9lzb"
      },
      "source": [
        "import numpy as np\n",
        "import pandas as pd\n",
        "import seaborn as sns\n",
        "import matplotlib.pyplot as plt\n",
        "\n"
      ],
      "execution_count": 2,
      "outputs": []
    },
    {
      "cell_type": "markdown",
      "metadata": {
        "id": "0u-RuWJUampa"
      },
      "source": [
        "# **\"Tracks\" & \"artists\"** understanding"
      ]
    },
    {
      "cell_type": "markdown",
      "metadata": {
        "id": "zpzfRV6Sa1Jl"
      },
      "source": [
        "**Loading Data**"
      ]
    },
    {
      "cell_type": "code",
      "metadata": {
        "id": "w67ZzcCIWSIl"
      },
      "source": [
        "tracks=pd.read_csv('/content/gdrive/MyDrive/DM-Project/tracks.csv')"
      ],
      "execution_count": 3,
      "outputs": []
    },
    {
      "cell_type": "code",
      "metadata": {
        "colab": {
          "base_uri": "https://localhost:8080/",
          "height": 464
        },
        "id": "jl9tUyHgblS7",
        "outputId": "99c9a158-4663-47bf-9f3b-24de393ae906"
      },
      "source": [
        "print(\"shape:\",tracks.head())\n",
        "tracks.head()"
      ],
      "execution_count": 4,
      "outputs": [
        {
          "output_type": "stream",
          "text": [
            "shape:                        id  ... time_signature\n",
            "0  35iwgR4jXetI318WEWsa1Q  ...              3\n",
            "1  021ht4sdgPcrDgSk7JTbKY  ...              1\n",
            "2  07A5yehtSnoedViJAZkNnc  ...              5\n",
            "3  08FmqUhxtyLTn6pAh6bk45  ...              3\n",
            "4  08y9GfoqCWfOGsKdwojr5e  ...              4\n",
            "\n",
            "[5 rows x 20 columns]\n"
          ],
          "name": "stdout"
        },
        {
          "output_type": "execute_result",
          "data": {
            "text/html": [
              "<div>\n",
              "<style scoped>\n",
              "    .dataframe tbody tr th:only-of-type {\n",
              "        vertical-align: middle;\n",
              "    }\n",
              "\n",
              "    .dataframe tbody tr th {\n",
              "        vertical-align: top;\n",
              "    }\n",
              "\n",
              "    .dataframe thead th {\n",
              "        text-align: right;\n",
              "    }\n",
              "</style>\n",
              "<table border=\"1\" class=\"dataframe\">\n",
              "  <thead>\n",
              "    <tr style=\"text-align: right;\">\n",
              "      <th></th>\n",
              "      <th>id</th>\n",
              "      <th>name</th>\n",
              "      <th>popularity</th>\n",
              "      <th>duration_ms</th>\n",
              "      <th>explicit</th>\n",
              "      <th>artists</th>\n",
              "      <th>id_artists</th>\n",
              "      <th>release_date</th>\n",
              "      <th>danceability</th>\n",
              "      <th>energy</th>\n",
              "      <th>key</th>\n",
              "      <th>loudness</th>\n",
              "      <th>mode</th>\n",
              "      <th>speechiness</th>\n",
              "      <th>acousticness</th>\n",
              "      <th>instrumentalness</th>\n",
              "      <th>liveness</th>\n",
              "      <th>valence</th>\n",
              "      <th>tempo</th>\n",
              "      <th>time_signature</th>\n",
              "    </tr>\n",
              "  </thead>\n",
              "  <tbody>\n",
              "    <tr>\n",
              "      <th>0</th>\n",
              "      <td>35iwgR4jXetI318WEWsa1Q</td>\n",
              "      <td>Carve</td>\n",
              "      <td>6</td>\n",
              "      <td>126903</td>\n",
              "      <td>0</td>\n",
              "      <td>['Uli']</td>\n",
              "      <td>['45tIt06XoI0Iio4LBEVpls']</td>\n",
              "      <td>1922-02-22</td>\n",
              "      <td>0.645</td>\n",
              "      <td>0.4450</td>\n",
              "      <td>0</td>\n",
              "      <td>-13.338</td>\n",
              "      <td>1</td>\n",
              "      <td>0.4510</td>\n",
              "      <td>0.674</td>\n",
              "      <td>0.7440</td>\n",
              "      <td>0.151</td>\n",
              "      <td>0.127</td>\n",
              "      <td>104.851</td>\n",
              "      <td>3</td>\n",
              "    </tr>\n",
              "    <tr>\n",
              "      <th>1</th>\n",
              "      <td>021ht4sdgPcrDgSk7JTbKY</td>\n",
              "      <td>Capítulo 2.16 - Banquero Anarquista</td>\n",
              "      <td>0</td>\n",
              "      <td>98200</td>\n",
              "      <td>0</td>\n",
              "      <td>['Fernando Pessoa']</td>\n",
              "      <td>['14jtPCOoNZwquk5wd9DxrY']</td>\n",
              "      <td>1922-06-01</td>\n",
              "      <td>0.695</td>\n",
              "      <td>0.2630</td>\n",
              "      <td>0</td>\n",
              "      <td>-22.136</td>\n",
              "      <td>1</td>\n",
              "      <td>0.9570</td>\n",
              "      <td>0.797</td>\n",
              "      <td>0.0000</td>\n",
              "      <td>0.148</td>\n",
              "      <td>0.655</td>\n",
              "      <td>102.009</td>\n",
              "      <td>1</td>\n",
              "    </tr>\n",
              "    <tr>\n",
              "      <th>2</th>\n",
              "      <td>07A5yehtSnoedViJAZkNnc</td>\n",
              "      <td>Vivo para Quererte - Remasterizado</td>\n",
              "      <td>0</td>\n",
              "      <td>181640</td>\n",
              "      <td>0</td>\n",
              "      <td>['Ignacio Corsini']</td>\n",
              "      <td>['5LiOoJbxVSAMkBS2fUm3X2']</td>\n",
              "      <td>1922-03-21</td>\n",
              "      <td>0.434</td>\n",
              "      <td>0.1770</td>\n",
              "      <td>1</td>\n",
              "      <td>-21.180</td>\n",
              "      <td>1</td>\n",
              "      <td>0.0512</td>\n",
              "      <td>0.994</td>\n",
              "      <td>0.0218</td>\n",
              "      <td>0.212</td>\n",
              "      <td>0.457</td>\n",
              "      <td>130.418</td>\n",
              "      <td>5</td>\n",
              "    </tr>\n",
              "    <tr>\n",
              "      <th>3</th>\n",
              "      <td>08FmqUhxtyLTn6pAh6bk45</td>\n",
              "      <td>El Prisionero - Remasterizado</td>\n",
              "      <td>0</td>\n",
              "      <td>176907</td>\n",
              "      <td>0</td>\n",
              "      <td>['Ignacio Corsini']</td>\n",
              "      <td>['5LiOoJbxVSAMkBS2fUm3X2']</td>\n",
              "      <td>1922-03-21</td>\n",
              "      <td>0.321</td>\n",
              "      <td>0.0946</td>\n",
              "      <td>7</td>\n",
              "      <td>-27.961</td>\n",
              "      <td>1</td>\n",
              "      <td>0.0504</td>\n",
              "      <td>0.995</td>\n",
              "      <td>0.9180</td>\n",
              "      <td>0.104</td>\n",
              "      <td>0.397</td>\n",
              "      <td>169.980</td>\n",
              "      <td>3</td>\n",
              "    </tr>\n",
              "    <tr>\n",
              "      <th>4</th>\n",
              "      <td>08y9GfoqCWfOGsKdwojr5e</td>\n",
              "      <td>Lady of the Evening</td>\n",
              "      <td>0</td>\n",
              "      <td>163080</td>\n",
              "      <td>0</td>\n",
              "      <td>['Dick Haymes']</td>\n",
              "      <td>['3BiJGZsyX9sJchTqcSA7Su']</td>\n",
              "      <td>1922</td>\n",
              "      <td>0.402</td>\n",
              "      <td>0.1580</td>\n",
              "      <td>3</td>\n",
              "      <td>-16.900</td>\n",
              "      <td>0</td>\n",
              "      <td>0.0390</td>\n",
              "      <td>0.989</td>\n",
              "      <td>0.1300</td>\n",
              "      <td>0.311</td>\n",
              "      <td>0.196</td>\n",
              "      <td>103.220</td>\n",
              "      <td>4</td>\n",
              "    </tr>\n",
              "  </tbody>\n",
              "</table>\n",
              "</div>"
            ],
            "text/plain": [
              "                       id  ... time_signature\n",
              "0  35iwgR4jXetI318WEWsa1Q  ...              3\n",
              "1  021ht4sdgPcrDgSk7JTbKY  ...              1\n",
              "2  07A5yehtSnoedViJAZkNnc  ...              5\n",
              "3  08FmqUhxtyLTn6pAh6bk45  ...              3\n",
              "4  08y9GfoqCWfOGsKdwojr5e  ...              4\n",
              "\n",
              "[5 rows x 20 columns]"
            ]
          },
          "metadata": {
            "tags": []
          },
          "execution_count": 4
        }
      ]
    },
    {
      "cell_type": "markdown",
      "metadata": {
        "id": "KZCdTP9ify7m"
      },
      "source": [
        "\n",
        "**Understanding Data**"
      ]
    },
    {
      "cell_type": "code",
      "metadata": {
        "colab": {
          "base_uri": "https://localhost:8080/"
        },
        "id": "KxG-MfKjdK-s",
        "outputId": "e887eee3-392a-4068-ae4e-ece65b6e9821"
      },
      "source": [
        "tracks.info()"
      ],
      "execution_count": 5,
      "outputs": [
        {
          "output_type": "stream",
          "text": [
            "<class 'pandas.core.frame.DataFrame'>\n",
            "RangeIndex: 586672 entries, 0 to 586671\n",
            "Data columns (total 20 columns):\n",
            " #   Column            Non-Null Count   Dtype  \n",
            "---  ------            --------------   -----  \n",
            " 0   id                586672 non-null  object \n",
            " 1   name              586601 non-null  object \n",
            " 2   popularity        586672 non-null  int64  \n",
            " 3   duration_ms       586672 non-null  int64  \n",
            " 4   explicit          586672 non-null  int64  \n",
            " 5   artists           586672 non-null  object \n",
            " 6   id_artists        586672 non-null  object \n",
            " 7   release_date      586672 non-null  object \n",
            " 8   danceability      586672 non-null  float64\n",
            " 9   energy            586672 non-null  float64\n",
            " 10  key               586672 non-null  int64  \n",
            " 11  loudness          586672 non-null  float64\n",
            " 12  mode              586672 non-null  int64  \n",
            " 13  speechiness       586672 non-null  float64\n",
            " 14  acousticness      586672 non-null  float64\n",
            " 15  instrumentalness  586672 non-null  float64\n",
            " 16  liveness          586672 non-null  float64\n",
            " 17  valence           586672 non-null  float64\n",
            " 18  tempo             586672 non-null  float64\n",
            " 19  time_signature    586672 non-null  int64  \n",
            "dtypes: float64(9), int64(6), object(5)\n",
            "memory usage: 89.5+ MB\n"
          ],
          "name": "stdout"
        }
      ]
    },
    {
      "cell_type": "code",
      "metadata": {
        "colab": {
          "base_uri": "https://localhost:8080/"
        },
        "id": "AGtEqk0TdgKw",
        "outputId": "b83387fe-93c5-4bd5-bd77-0daa400dffc4"
      },
      "source": [
        "tracks.isna().sum(axis=0)"
      ],
      "execution_count": 6,
      "outputs": [
        {
          "output_type": "execute_result",
          "data": {
            "text/plain": [
              "id                   0\n",
              "name                71\n",
              "popularity           0\n",
              "duration_ms          0\n",
              "explicit             0\n",
              "artists              0\n",
              "id_artists           0\n",
              "release_date         0\n",
              "danceability         0\n",
              "energy               0\n",
              "key                  0\n",
              "loudness             0\n",
              "mode                 0\n",
              "speechiness          0\n",
              "acousticness         0\n",
              "instrumentalness     0\n",
              "liveness             0\n",
              "valence              0\n",
              "tempo                0\n",
              "time_signature       0\n",
              "dtype: int64"
            ]
          },
          "metadata": {
            "tags": []
          },
          "execution_count": 6
        }
      ]
    },
    {
      "cell_type": "code",
      "metadata": {
        "colab": {
          "base_uri": "https://localhost:8080/",
          "height": 314
        },
        "id": "RwXirokdd2cY",
        "outputId": "589f2903-1ee9-4549-cad4-e166196fcdc3"
      },
      "source": [
        "tracks.describe()"
      ],
      "execution_count": 7,
      "outputs": [
        {
          "output_type": "execute_result",
          "data": {
            "text/html": [
              "<div>\n",
              "<style scoped>\n",
              "    .dataframe tbody tr th:only-of-type {\n",
              "        vertical-align: middle;\n",
              "    }\n",
              "\n",
              "    .dataframe tbody tr th {\n",
              "        vertical-align: top;\n",
              "    }\n",
              "\n",
              "    .dataframe thead th {\n",
              "        text-align: right;\n",
              "    }\n",
              "</style>\n",
              "<table border=\"1\" class=\"dataframe\">\n",
              "  <thead>\n",
              "    <tr style=\"text-align: right;\">\n",
              "      <th></th>\n",
              "      <th>popularity</th>\n",
              "      <th>duration_ms</th>\n",
              "      <th>explicit</th>\n",
              "      <th>danceability</th>\n",
              "      <th>energy</th>\n",
              "      <th>key</th>\n",
              "      <th>loudness</th>\n",
              "      <th>mode</th>\n",
              "      <th>speechiness</th>\n",
              "      <th>acousticness</th>\n",
              "      <th>instrumentalness</th>\n",
              "      <th>liveness</th>\n",
              "      <th>valence</th>\n",
              "      <th>tempo</th>\n",
              "      <th>time_signature</th>\n",
              "    </tr>\n",
              "  </thead>\n",
              "  <tbody>\n",
              "    <tr>\n",
              "      <th>count</th>\n",
              "      <td>586672.000000</td>\n",
              "      <td>5.866720e+05</td>\n",
              "      <td>586672.000000</td>\n",
              "      <td>586672.000000</td>\n",
              "      <td>586672.000000</td>\n",
              "      <td>586672.000000</td>\n",
              "      <td>586672.000000</td>\n",
              "      <td>586672.000000</td>\n",
              "      <td>586672.000000</td>\n",
              "      <td>586672.000000</td>\n",
              "      <td>586672.000000</td>\n",
              "      <td>586672.000000</td>\n",
              "      <td>586672.000000</td>\n",
              "      <td>586672.000000</td>\n",
              "      <td>586672.000000</td>\n",
              "    </tr>\n",
              "    <tr>\n",
              "      <th>mean</th>\n",
              "      <td>27.570053</td>\n",
              "      <td>2.300512e+05</td>\n",
              "      <td>0.044086</td>\n",
              "      <td>0.563594</td>\n",
              "      <td>0.542036</td>\n",
              "      <td>5.221603</td>\n",
              "      <td>-10.206067</td>\n",
              "      <td>0.658797</td>\n",
              "      <td>0.104864</td>\n",
              "      <td>0.449863</td>\n",
              "      <td>0.113451</td>\n",
              "      <td>0.213935</td>\n",
              "      <td>0.552292</td>\n",
              "      <td>118.464857</td>\n",
              "      <td>3.873382</td>\n",
              "    </tr>\n",
              "    <tr>\n",
              "      <th>std</th>\n",
              "      <td>18.370642</td>\n",
              "      <td>1.265261e+05</td>\n",
              "      <td>0.205286</td>\n",
              "      <td>0.166103</td>\n",
              "      <td>0.251923</td>\n",
              "      <td>3.519423</td>\n",
              "      <td>5.089328</td>\n",
              "      <td>0.474114</td>\n",
              "      <td>0.179893</td>\n",
              "      <td>0.348837</td>\n",
              "      <td>0.266868</td>\n",
              "      <td>0.184326</td>\n",
              "      <td>0.257671</td>\n",
              "      <td>29.764108</td>\n",
              "      <td>0.473162</td>\n",
              "    </tr>\n",
              "    <tr>\n",
              "      <th>min</th>\n",
              "      <td>0.000000</td>\n",
              "      <td>3.344000e+03</td>\n",
              "      <td>0.000000</td>\n",
              "      <td>0.000000</td>\n",
              "      <td>0.000000</td>\n",
              "      <td>0.000000</td>\n",
              "      <td>-60.000000</td>\n",
              "      <td>0.000000</td>\n",
              "      <td>0.000000</td>\n",
              "      <td>0.000000</td>\n",
              "      <td>0.000000</td>\n",
              "      <td>0.000000</td>\n",
              "      <td>0.000000</td>\n",
              "      <td>0.000000</td>\n",
              "      <td>0.000000</td>\n",
              "    </tr>\n",
              "    <tr>\n",
              "      <th>25%</th>\n",
              "      <td>13.000000</td>\n",
              "      <td>1.750930e+05</td>\n",
              "      <td>0.000000</td>\n",
              "      <td>0.453000</td>\n",
              "      <td>0.343000</td>\n",
              "      <td>2.000000</td>\n",
              "      <td>-12.891000</td>\n",
              "      <td>0.000000</td>\n",
              "      <td>0.034000</td>\n",
              "      <td>0.096900</td>\n",
              "      <td>0.000000</td>\n",
              "      <td>0.098300</td>\n",
              "      <td>0.346000</td>\n",
              "      <td>95.600000</td>\n",
              "      <td>4.000000</td>\n",
              "    </tr>\n",
              "    <tr>\n",
              "      <th>50%</th>\n",
              "      <td>27.000000</td>\n",
              "      <td>2.148930e+05</td>\n",
              "      <td>0.000000</td>\n",
              "      <td>0.577000</td>\n",
              "      <td>0.549000</td>\n",
              "      <td>5.000000</td>\n",
              "      <td>-9.243000</td>\n",
              "      <td>1.000000</td>\n",
              "      <td>0.044300</td>\n",
              "      <td>0.422000</td>\n",
              "      <td>0.000024</td>\n",
              "      <td>0.139000</td>\n",
              "      <td>0.564000</td>\n",
              "      <td>117.384000</td>\n",
              "      <td>4.000000</td>\n",
              "    </tr>\n",
              "    <tr>\n",
              "      <th>75%</th>\n",
              "      <td>41.000000</td>\n",
              "      <td>2.638670e+05</td>\n",
              "      <td>0.000000</td>\n",
              "      <td>0.686000</td>\n",
              "      <td>0.748000</td>\n",
              "      <td>8.000000</td>\n",
              "      <td>-6.482000</td>\n",
              "      <td>1.000000</td>\n",
              "      <td>0.076300</td>\n",
              "      <td>0.785000</td>\n",
              "      <td>0.009550</td>\n",
              "      <td>0.278000</td>\n",
              "      <td>0.769000</td>\n",
              "      <td>136.321000</td>\n",
              "      <td>4.000000</td>\n",
              "    </tr>\n",
              "    <tr>\n",
              "      <th>max</th>\n",
              "      <td>100.000000</td>\n",
              "      <td>5.621218e+06</td>\n",
              "      <td>1.000000</td>\n",
              "      <td>0.991000</td>\n",
              "      <td>1.000000</td>\n",
              "      <td>11.000000</td>\n",
              "      <td>5.376000</td>\n",
              "      <td>1.000000</td>\n",
              "      <td>0.971000</td>\n",
              "      <td>0.996000</td>\n",
              "      <td>1.000000</td>\n",
              "      <td>1.000000</td>\n",
              "      <td>1.000000</td>\n",
              "      <td>246.381000</td>\n",
              "      <td>5.000000</td>\n",
              "    </tr>\n",
              "  </tbody>\n",
              "</table>\n",
              "</div>"
            ],
            "text/plain": [
              "          popularity   duration_ms  ...          tempo  time_signature\n",
              "count  586672.000000  5.866720e+05  ...  586672.000000   586672.000000\n",
              "mean       27.570053  2.300512e+05  ...     118.464857        3.873382\n",
              "std        18.370642  1.265261e+05  ...      29.764108        0.473162\n",
              "min         0.000000  3.344000e+03  ...       0.000000        0.000000\n",
              "25%        13.000000  1.750930e+05  ...      95.600000        4.000000\n",
              "50%        27.000000  2.148930e+05  ...     117.384000        4.000000\n",
              "75%        41.000000  2.638670e+05  ...     136.321000        4.000000\n",
              "max       100.000000  5.621218e+06  ...     246.381000        5.000000\n",
              "\n",
              "[8 rows x 15 columns]"
            ]
          },
          "metadata": {
            "tags": []
          },
          "execution_count": 7
        }
      ]
    },
    {
      "cell_type": "code",
      "metadata": {
        "colab": {
          "base_uri": "https://localhost:8080/",
          "height": 202
        },
        "id": "6kRByodr1_HG",
        "outputId": "49a6e800-5a21-424c-f83f-6c8b4a3a3db4"
      },
      "source": [
        "artists=pd.read_csv('/content/gdrive/MyDrive/DM-Project/artists.csv')\n",
        "artists.head()"
      ],
      "execution_count": 8,
      "outputs": [
        {
          "output_type": "execute_result",
          "data": {
            "text/html": [
              "<div>\n",
              "<style scoped>\n",
              "    .dataframe tbody tr th:only-of-type {\n",
              "        vertical-align: middle;\n",
              "    }\n",
              "\n",
              "    .dataframe tbody tr th {\n",
              "        vertical-align: top;\n",
              "    }\n",
              "\n",
              "    .dataframe thead th {\n",
              "        text-align: right;\n",
              "    }\n",
              "</style>\n",
              "<table border=\"1\" class=\"dataframe\">\n",
              "  <thead>\n",
              "    <tr style=\"text-align: right;\">\n",
              "      <th></th>\n",
              "      <th>id</th>\n",
              "      <th>followers</th>\n",
              "      <th>genres</th>\n",
              "      <th>name</th>\n",
              "      <th>popularity</th>\n",
              "    </tr>\n",
              "  </thead>\n",
              "  <tbody>\n",
              "    <tr>\n",
              "      <th>0</th>\n",
              "      <td>0DheY5irMjBUeLybbCUEZ2</td>\n",
              "      <td>0.0</td>\n",
              "      <td>[]</td>\n",
              "      <td>Armid &amp; Amir Zare Pashai feat. Sara Rouzbehani</td>\n",
              "      <td>0</td>\n",
              "    </tr>\n",
              "    <tr>\n",
              "      <th>1</th>\n",
              "      <td>0DlhY15l3wsrnlfGio2bjU</td>\n",
              "      <td>5.0</td>\n",
              "      <td>[]</td>\n",
              "      <td>ปูนา ภาวิณี</td>\n",
              "      <td>0</td>\n",
              "    </tr>\n",
              "    <tr>\n",
              "      <th>2</th>\n",
              "      <td>0DmRESX2JknGPQyO15yxg7</td>\n",
              "      <td>0.0</td>\n",
              "      <td>[]</td>\n",
              "      <td>Sadaa</td>\n",
              "      <td>0</td>\n",
              "    </tr>\n",
              "    <tr>\n",
              "      <th>3</th>\n",
              "      <td>0DmhnbHjm1qw6NCYPeZNgJ</td>\n",
              "      <td>0.0</td>\n",
              "      <td>[]</td>\n",
              "      <td>Tra'gruda</td>\n",
              "      <td>0</td>\n",
              "    </tr>\n",
              "    <tr>\n",
              "      <th>4</th>\n",
              "      <td>0Dn11fWM7vHQ3rinvWEl4E</td>\n",
              "      <td>2.0</td>\n",
              "      <td>[]</td>\n",
              "      <td>Ioannis Panoutsopoulos</td>\n",
              "      <td>0</td>\n",
              "    </tr>\n",
              "  </tbody>\n",
              "</table>\n",
              "</div>"
            ],
            "text/plain": [
              "                       id  ...  popularity\n",
              "0  0DheY5irMjBUeLybbCUEZ2  ...           0\n",
              "1  0DlhY15l3wsrnlfGio2bjU  ...           0\n",
              "2  0DmRESX2JknGPQyO15yxg7  ...           0\n",
              "3  0DmhnbHjm1qw6NCYPeZNgJ  ...           0\n",
              "4  0Dn11fWM7vHQ3rinvWEl4E  ...           0\n",
              "\n",
              "[5 rows x 5 columns]"
            ]
          },
          "metadata": {
            "tags": []
          },
          "execution_count": 8
        }
      ]
    },
    {
      "cell_type": "code",
      "metadata": {
        "colab": {
          "base_uri": "https://localhost:8080/"
        },
        "id": "_1qBAesw76yB",
        "outputId": "158a8018-e771-4a05-ec98-90ecb47eae69"
      },
      "source": [
        "artists.isna().sum(axis=0)"
      ],
      "execution_count": 9,
      "outputs": [
        {
          "output_type": "execute_result",
          "data": {
            "text/plain": [
              "id             0\n",
              "followers     13\n",
              "genres         0\n",
              "name           0\n",
              "popularity     0\n",
              "dtype: int64"
            ]
          },
          "metadata": {
            "tags": []
          },
          "execution_count": 9
        }
      ]
    },
    {
      "cell_type": "markdown",
      "metadata": {
        "id": "g3gDc3HMse-g"
      },
      "source": [
        "# **\"data by year\" understanding**"
      ]
    },
    {
      "cell_type": "markdown",
      "metadata": {
        "id": "DxE6cD7Asrmo"
      },
      "source": [
        "**loading data**"
      ]
    },
    {
      "cell_type": "code",
      "metadata": {
        "id": "-W-D-uSHsqrK"
      },
      "source": [
        "data_by_year=pd.read_csv('/content/gdrive/MyDrive/DM-Project/archive.zip (Unzipped Files)/data_by_year_o.csv')\n",
        "dby=data_by_year.copy()"
      ],
      "execution_count": 10,
      "outputs": []
    },
    {
      "cell_type": "code",
      "metadata": {
        "colab": {
          "base_uri": "https://localhost:8080/",
          "height": 344
        },
        "id": "8KfFp4LEtBtf",
        "outputId": "fa1a5c52-a71a-48cb-e4ea-38b24f243eab"
      },
      "source": [
        "print(\"shape:\",dby.head())\n",
        "dby.head()"
      ],
      "execution_count": 11,
      "outputs": [
        {
          "output_type": "stream",
          "text": [
            "shape:    mode  year  acousticness  ...   valence  popularity  key\n",
            "0     1  1921      0.886896  ...  0.379327    0.653333    2\n",
            "1     1  1922      0.938592  ...  0.535549    0.140845   10\n",
            "2     1  1923      0.957247  ...  0.625492    5.389189    0\n",
            "3     1  1924      0.940200  ...  0.663725    0.661017   10\n",
            "4     1  1925      0.962607  ...  0.621929    2.604317    5\n",
            "\n",
            "[5 rows x 14 columns]\n"
          ],
          "name": "stdout"
        },
        {
          "output_type": "execute_result",
          "data": {
            "text/html": [
              "<div>\n",
              "<style scoped>\n",
              "    .dataframe tbody tr th:only-of-type {\n",
              "        vertical-align: middle;\n",
              "    }\n",
              "\n",
              "    .dataframe tbody tr th {\n",
              "        vertical-align: top;\n",
              "    }\n",
              "\n",
              "    .dataframe thead th {\n",
              "        text-align: right;\n",
              "    }\n",
              "</style>\n",
              "<table border=\"1\" class=\"dataframe\">\n",
              "  <thead>\n",
              "    <tr style=\"text-align: right;\">\n",
              "      <th></th>\n",
              "      <th>mode</th>\n",
              "      <th>year</th>\n",
              "      <th>acousticness</th>\n",
              "      <th>danceability</th>\n",
              "      <th>duration_ms</th>\n",
              "      <th>energy</th>\n",
              "      <th>instrumentalness</th>\n",
              "      <th>liveness</th>\n",
              "      <th>loudness</th>\n",
              "      <th>speechiness</th>\n",
              "      <th>tempo</th>\n",
              "      <th>valence</th>\n",
              "      <th>popularity</th>\n",
              "      <th>key</th>\n",
              "    </tr>\n",
              "  </thead>\n",
              "  <tbody>\n",
              "    <tr>\n",
              "      <th>0</th>\n",
              "      <td>1</td>\n",
              "      <td>1921</td>\n",
              "      <td>0.886896</td>\n",
              "      <td>0.418597</td>\n",
              "      <td>260537.166667</td>\n",
              "      <td>0.231815</td>\n",
              "      <td>0.344878</td>\n",
              "      <td>0.205710</td>\n",
              "      <td>-17.048667</td>\n",
              "      <td>0.073662</td>\n",
              "      <td>101.531493</td>\n",
              "      <td>0.379327</td>\n",
              "      <td>0.653333</td>\n",
              "      <td>2</td>\n",
              "    </tr>\n",
              "    <tr>\n",
              "      <th>1</th>\n",
              "      <td>1</td>\n",
              "      <td>1922</td>\n",
              "      <td>0.938592</td>\n",
              "      <td>0.482042</td>\n",
              "      <td>165469.746479</td>\n",
              "      <td>0.237815</td>\n",
              "      <td>0.434195</td>\n",
              "      <td>0.240720</td>\n",
              "      <td>-19.275282</td>\n",
              "      <td>0.116655</td>\n",
              "      <td>100.884521</td>\n",
              "      <td>0.535549</td>\n",
              "      <td>0.140845</td>\n",
              "      <td>10</td>\n",
              "    </tr>\n",
              "    <tr>\n",
              "      <th>2</th>\n",
              "      <td>1</td>\n",
              "      <td>1923</td>\n",
              "      <td>0.957247</td>\n",
              "      <td>0.577341</td>\n",
              "      <td>177942.362162</td>\n",
              "      <td>0.262406</td>\n",
              "      <td>0.371733</td>\n",
              "      <td>0.227462</td>\n",
              "      <td>-14.129211</td>\n",
              "      <td>0.093949</td>\n",
              "      <td>114.010730</td>\n",
              "      <td>0.625492</td>\n",
              "      <td>5.389189</td>\n",
              "      <td>0</td>\n",
              "    </tr>\n",
              "    <tr>\n",
              "      <th>3</th>\n",
              "      <td>1</td>\n",
              "      <td>1924</td>\n",
              "      <td>0.940200</td>\n",
              "      <td>0.549894</td>\n",
              "      <td>191046.707627</td>\n",
              "      <td>0.344347</td>\n",
              "      <td>0.581701</td>\n",
              "      <td>0.235219</td>\n",
              "      <td>-14.231343</td>\n",
              "      <td>0.092089</td>\n",
              "      <td>120.689572</td>\n",
              "      <td>0.663725</td>\n",
              "      <td>0.661017</td>\n",
              "      <td>10</td>\n",
              "    </tr>\n",
              "    <tr>\n",
              "      <th>4</th>\n",
              "      <td>1</td>\n",
              "      <td>1925</td>\n",
              "      <td>0.962607</td>\n",
              "      <td>0.573863</td>\n",
              "      <td>184986.924460</td>\n",
              "      <td>0.278594</td>\n",
              "      <td>0.418297</td>\n",
              "      <td>0.237668</td>\n",
              "      <td>-14.146414</td>\n",
              "      <td>0.111918</td>\n",
              "      <td>115.521921</td>\n",
              "      <td>0.621929</td>\n",
              "      <td>2.604317</td>\n",
              "      <td>5</td>\n",
              "    </tr>\n",
              "  </tbody>\n",
              "</table>\n",
              "</div>"
            ],
            "text/plain": [
              "   mode  year  acousticness  ...   valence  popularity  key\n",
              "0     1  1921      0.886896  ...  0.379327    0.653333    2\n",
              "1     1  1922      0.938592  ...  0.535549    0.140845   10\n",
              "2     1  1923      0.957247  ...  0.625492    5.389189    0\n",
              "3     1  1924      0.940200  ...  0.663725    0.661017   10\n",
              "4     1  1925      0.962607  ...  0.621929    2.604317    5\n",
              "\n",
              "[5 rows x 14 columns]"
            ]
          },
          "metadata": {
            "tags": []
          },
          "execution_count": 11
        }
      ]
    },
    {
      "cell_type": "markdown",
      "metadata": {
        "id": "xorn76oRtQ48"
      },
      "source": [
        "**understanding data**"
      ]
    },
    {
      "cell_type": "code",
      "metadata": {
        "colab": {
          "base_uri": "https://localhost:8080/"
        },
        "id": "2dHWmvJatWHb",
        "outputId": "bb7fe1bd-7a21-464b-c4e4-f410b63aeda6"
      },
      "source": [
        "dby.info()"
      ],
      "execution_count": 12,
      "outputs": [
        {
          "output_type": "stream",
          "text": [
            "<class 'pandas.core.frame.DataFrame'>\n",
            "RangeIndex: 100 entries, 0 to 99\n",
            "Data columns (total 14 columns):\n",
            " #   Column            Non-Null Count  Dtype  \n",
            "---  ------            --------------  -----  \n",
            " 0   mode              100 non-null    int64  \n",
            " 1   year              100 non-null    int64  \n",
            " 2   acousticness      100 non-null    float64\n",
            " 3   danceability      100 non-null    float64\n",
            " 4   duration_ms       100 non-null    float64\n",
            " 5   energy            100 non-null    float64\n",
            " 6   instrumentalness  100 non-null    float64\n",
            " 7   liveness          100 non-null    float64\n",
            " 8   loudness          100 non-null    float64\n",
            " 9   speechiness       100 non-null    float64\n",
            " 10  tempo             100 non-null    float64\n",
            " 11  valence           100 non-null    float64\n",
            " 12  popularity        100 non-null    float64\n",
            " 13  key               100 non-null    int64  \n",
            "dtypes: float64(11), int64(3)\n",
            "memory usage: 11.1 KB\n"
          ],
          "name": "stdout"
        }
      ]
    },
    {
      "cell_type": "code",
      "metadata": {
        "colab": {
          "base_uri": "https://localhost:8080/"
        },
        "id": "gy9Ff23vtaxL",
        "outputId": "b2fc31c8-c383-4a25-cd20-3b10e8d24eae"
      },
      "source": [
        "dby.isna().sum(axis=0)"
      ],
      "execution_count": 13,
      "outputs": [
        {
          "output_type": "execute_result",
          "data": {
            "text/plain": [
              "mode                0\n",
              "year                0\n",
              "acousticness        0\n",
              "danceability        0\n",
              "duration_ms         0\n",
              "energy              0\n",
              "instrumentalness    0\n",
              "liveness            0\n",
              "loudness            0\n",
              "speechiness         0\n",
              "tempo               0\n",
              "valence             0\n",
              "popularity          0\n",
              "key                 0\n",
              "dtype: int64"
            ]
          },
          "metadata": {
            "tags": []
          },
          "execution_count": 13
        }
      ]
    },
    {
      "cell_type": "code",
      "metadata": {
        "colab": {
          "base_uri": "https://localhost:8080/",
          "height": 294
        },
        "id": "SVF6ckU4jLaM",
        "outputId": "a8c09ed8-f29a-4625-8ace-14d37b3a79b6"
      },
      "source": [
        "dby.describe()"
      ],
      "execution_count": 14,
      "outputs": [
        {
          "output_type": "execute_result",
          "data": {
            "text/html": [
              "<div>\n",
              "<style scoped>\n",
              "    .dataframe tbody tr th:only-of-type {\n",
              "        vertical-align: middle;\n",
              "    }\n",
              "\n",
              "    .dataframe tbody tr th {\n",
              "        vertical-align: top;\n",
              "    }\n",
              "\n",
              "    .dataframe thead th {\n",
              "        text-align: right;\n",
              "    }\n",
              "</style>\n",
              "<table border=\"1\" class=\"dataframe\">\n",
              "  <thead>\n",
              "    <tr style=\"text-align: right;\">\n",
              "      <th></th>\n",
              "      <th>mode</th>\n",
              "      <th>year</th>\n",
              "      <th>acousticness</th>\n",
              "      <th>danceability</th>\n",
              "      <th>duration_ms</th>\n",
              "      <th>energy</th>\n",
              "      <th>instrumentalness</th>\n",
              "      <th>liveness</th>\n",
              "      <th>loudness</th>\n",
              "      <th>speechiness</th>\n",
              "      <th>tempo</th>\n",
              "      <th>valence</th>\n",
              "      <th>popularity</th>\n",
              "      <th>key</th>\n",
              "    </tr>\n",
              "  </thead>\n",
              "  <tbody>\n",
              "    <tr>\n",
              "      <th>count</th>\n",
              "      <td>100.0</td>\n",
              "      <td>100.000000</td>\n",
              "      <td>100.000000</td>\n",
              "      <td>100.000000</td>\n",
              "      <td>100.000000</td>\n",
              "      <td>100.000000</td>\n",
              "      <td>100.000000</td>\n",
              "      <td>100.000000</td>\n",
              "      <td>100.000000</td>\n",
              "      <td>100.000000</td>\n",
              "      <td>100.000000</td>\n",
              "      <td>100.000000</td>\n",
              "      <td>100.000000</td>\n",
              "      <td>100.0000</td>\n",
              "    </tr>\n",
              "    <tr>\n",
              "      <th>mean</th>\n",
              "      <td>1.0</td>\n",
              "      <td>1970.500000</td>\n",
              "      <td>0.556317</td>\n",
              "      <td>0.536783</td>\n",
              "      <td>227296.752234</td>\n",
              "      <td>0.452705</td>\n",
              "      <td>0.193582</td>\n",
              "      <td>0.208224</td>\n",
              "      <td>-11.969054</td>\n",
              "      <td>0.105861</td>\n",
              "      <td>116.015674</td>\n",
              "      <td>0.532120</td>\n",
              "      <td>27.376065</td>\n",
              "      <td>3.7900</td>\n",
              "    </tr>\n",
              "    <tr>\n",
              "      <th>std</th>\n",
              "      <td>0.0</td>\n",
              "      <td>29.011492</td>\n",
              "      <td>0.275358</td>\n",
              "      <td>0.052356</td>\n",
              "      <td>25630.048065</td>\n",
              "      <td>0.161738</td>\n",
              "      <td>0.122488</td>\n",
              "      <td>0.017903</td>\n",
              "      <td>3.105610</td>\n",
              "      <td>0.082128</td>\n",
              "      <td>5.669645</td>\n",
              "      <td>0.057809</td>\n",
              "      <td>20.703197</td>\n",
              "      <td>3.5627</td>\n",
              "    </tr>\n",
              "    <tr>\n",
              "      <th>min</th>\n",
              "      <td>1.0</td>\n",
              "      <td>1921.000000</td>\n",
              "      <td>0.219931</td>\n",
              "      <td>0.414445</td>\n",
              "      <td>156881.657475</td>\n",
              "      <td>0.207948</td>\n",
              "      <td>0.016376</td>\n",
              "      <td>0.168450</td>\n",
              "      <td>-19.275282</td>\n",
              "      <td>0.049098</td>\n",
              "      <td>100.884521</td>\n",
              "      <td>0.379327</td>\n",
              "      <td>0.140845</td>\n",
              "      <td>0.0000</td>\n",
              "    </tr>\n",
              "    <tr>\n",
              "      <th>25%</th>\n",
              "      <td>1.0</td>\n",
              "      <td>1945.750000</td>\n",
              "      <td>0.289516</td>\n",
              "      <td>0.500800</td>\n",
              "      <td>210889.193536</td>\n",
              "      <td>0.280733</td>\n",
              "      <td>0.103323</td>\n",
              "      <td>0.197509</td>\n",
              "      <td>-14.189232</td>\n",
              "      <td>0.064244</td>\n",
              "      <td>111.718626</td>\n",
              "      <td>0.497174</td>\n",
              "      <td>3.298200</td>\n",
              "      <td>0.0000</td>\n",
              "    </tr>\n",
              "    <tr>\n",
              "      <th>50%</th>\n",
              "      <td>1.0</td>\n",
              "      <td>1970.500000</td>\n",
              "      <td>0.459190</td>\n",
              "      <td>0.540976</td>\n",
              "      <td>235520.850833</td>\n",
              "      <td>0.495997</td>\n",
              "      <td>0.127644</td>\n",
              "      <td>0.206074</td>\n",
              "      <td>-11.773061</td>\n",
              "      <td>0.085763</td>\n",
              "      <td>117.455548</td>\n",
              "      <td>0.541503</td>\n",
              "      <td>33.619250</td>\n",
              "      <td>2.0000</td>\n",
              "    </tr>\n",
              "    <tr>\n",
              "      <th>75%</th>\n",
              "      <td>1.0</td>\n",
              "      <td>1995.250000</td>\n",
              "      <td>0.856711</td>\n",
              "      <td>0.570948</td>\n",
              "      <td>247702.738058</td>\n",
              "      <td>0.598008</td>\n",
              "      <td>0.276707</td>\n",
              "      <td>0.218493</td>\n",
              "      <td>-9.950542</td>\n",
              "      <td>0.104438</td>\n",
              "      <td>120.606644</td>\n",
              "      <td>0.570080</td>\n",
              "      <td>44.943375</td>\n",
              "      <td>7.0000</td>\n",
              "    </tr>\n",
              "    <tr>\n",
              "      <th>max</th>\n",
              "      <td>1.0</td>\n",
              "      <td>2020.000000</td>\n",
              "      <td>0.962607</td>\n",
              "      <td>0.692904</td>\n",
              "      <td>267677.823086</td>\n",
              "      <td>0.681778</td>\n",
              "      <td>0.581701</td>\n",
              "      <td>0.264335</td>\n",
              "      <td>-6.595067</td>\n",
              "      <td>0.490001</td>\n",
              "      <td>124.283129</td>\n",
              "      <td>0.663725</td>\n",
              "      <td>65.256542</td>\n",
              "      <td>10.0000</td>\n",
              "    </tr>\n",
              "  </tbody>\n",
              "</table>\n",
              "</div>"
            ],
            "text/plain": [
              "        mode         year  acousticness  ...     valence  popularity       key\n",
              "count  100.0   100.000000    100.000000  ...  100.000000  100.000000  100.0000\n",
              "mean     1.0  1970.500000      0.556317  ...    0.532120   27.376065    3.7900\n",
              "std      0.0    29.011492      0.275358  ...    0.057809   20.703197    3.5627\n",
              "min      1.0  1921.000000      0.219931  ...    0.379327    0.140845    0.0000\n",
              "25%      1.0  1945.750000      0.289516  ...    0.497174    3.298200    0.0000\n",
              "50%      1.0  1970.500000      0.459190  ...    0.541503   33.619250    2.0000\n",
              "75%      1.0  1995.250000      0.856711  ...    0.570080   44.943375    7.0000\n",
              "max      1.0  2020.000000      0.962607  ...    0.663725   65.256542   10.0000\n",
              "\n",
              "[8 rows x 14 columns]"
            ]
          },
          "metadata": {
            "tags": []
          },
          "execution_count": 14
        }
      ]
    },
    {
      "cell_type": "markdown",
      "metadata": {
        "id": "9g9h58Ipwmk0"
      },
      "source": [
        "# **Visualization**"
      ]
    },
    {
      "cell_type": "markdown",
      "metadata": {
        "id": "0pKWD8i3qLku"
      },
      "source": [
        "**poplurity over time!**"
      ]
    },
    {
      "cell_type": "markdown",
      "metadata": {
        "id": "ssY3dhANxyu0"
      },
      "source": [
        "نمودار محبوبیت به نسبت سال، اطلاعات خاصی به ما نمی‌دهد چرا که می‌دانیم به طور طبیعی اقبال مردم به یک آهنگ قدیمی کمتر است، از این رو این پیشفرض با رسم نمودار و مشاهده تایید می‌شود."
      ]
    },
    {
      "cell_type": "code",
      "metadata": {
        "colab": {
          "base_uri": "https://localhost:8080/",
          "height": 422
        },
        "id": "Z4_yz7pswquG",
        "outputId": "46600382-e5cd-4cb3-8a55-235c55ef3a0e"
      },
      "source": [
        "plt.figure(figsize=(16,6))\n",
        "sns.lineplot(x=dby['year'],y=dby['popularity'],label='popularity')\n",
        "plt.title(\"poplurity over time!\")\n",
        "plt.xlabel('year')\n",
        "plt.ylabel(\"popularity!\")"
      ],
      "execution_count": 15,
      "outputs": [
        {
          "output_type": "execute_result",
          "data": {
            "text/plain": [
              "Text(0, 0.5, 'popularity!')"
            ]
          },
          "metadata": {
            "tags": []
          },
          "execution_count": 15
        },
        {
          "output_type": "display_data",
          "data": {
            "image/png": "[encoded data removed]",
            "text/plain": [
              "<Figure size 1152x432 with 1 Axes>"
            ]
          },
          "metadata": {
            "tags": [],
            "needs_background": "light"
          }
        }
      ]
    },
    {
      "cell_type": "markdown",
      "metadata": {
        "id": "6GeNAkECqPVN"
      },
      "source": [
        "**tracks attributes over time!**"
      ]
    },
    {
      "cell_type": "code",
      "metadata": {
        "colab": {
          "base_uri": "https://localhost:8080/",
          "height": 422
        },
        "id": "Js8IYo2Tlz1N",
        "outputId": "ce39823b-4af9-4906-e468-78e40c85e3af"
      },
      "source": [
        "plt.figure(figsize=(16,6))\n",
        "sns.lineplot(x=dby['year'],y=dby['danceability'],label='danceability')\n",
        "sns.lineplot(x=dby['year'],y=dby['energy'],label='energy')\n",
        "sns.lineplot(x=dby['year'],y=dby['instrumentalness'],label='instrumentalness')\n",
        "plt.title(\"tracks attributes over time!\")\n",
        "plt.xlabel('year')\n",
        "plt.ylabel(\"scores!\")"
      ],
      "execution_count": 16,
      "outputs": [
        {
          "output_type": "execute_result",
          "data": {
            "text/plain": [
              "Text(0, 0.5, 'scores!')"
            ]
          },
          "metadata": {
            "tags": []
          },
          "execution_count": 16
        },
        {
          "output_type": "display_data",
          "data": {
            "image/png": "[encoded data removed]",
            "text/plain": [
              "<Figure size 1152x432 with 1 Axes>"
            ]
          },
          "metadata": {
            "tags": [],
            "needs_background": "light"
          }
        }
      ]
    },
    {
      "cell_type": "code",
      "metadata": {
        "colab": {
          "base_uri": "https://localhost:8080/",
          "height": 335
        },
        "id": "Io283TosKzrL",
        "outputId": "2d6ca301-c56d-4022-80df-a0c1039739f5"
      },
      "source": [
        "sns.distplot(tracks['popularity'])\n",
        "plt.show()"
      ],
      "execution_count": 17,
      "outputs": [
        {
          "output_type": "stream",
          "text": [
            "/usr/local/lib/python3.7/dist-packages/seaborn/distributions.py:2557: FutureWarning: `distplot` is a deprecated function and will be removed in a future version. Please adapt your code to use either `displot` (a figure-level function with similar flexibility) or `histplot` (an axes-level function for histograms).\n",
            "  warnings.warn(msg, FutureWarning)\n"
          ],
          "name": "stderr"
        },
        {
          "output_type": "display_data",
          "data": {
            "image/png": "[encoded data removed]",
            "text/plain": [
              "<Figure size 432x288 with 1 Axes>"
            ]
          },
          "metadata": {
            "tags": [],
            "needs_background": "light"
          }
        }
      ]
    },
    {
      "cell_type": "code",
      "metadata": {
        "colab": {
          "base_uri": "https://localhost:8080/",
          "height": 334
        },
        "id": "asxI33c1PC36",
        "outputId": "efb0111f-f143-4efd-b7fd-d1405bf9975b"
      },
      "source": [
        "sns.distplot(artists['popularity'])\n",
        "plt.show()"
      ],
      "execution_count": 18,
      "outputs": [
        {
          "output_type": "stream",
          "text": [
            "/usr/local/lib/python3.7/dist-packages/seaborn/distributions.py:2557: FutureWarning: `distplot` is a deprecated function and will be removed in a future version. Please adapt your code to use either `displot` (a figure-level function with similar flexibility) or `histplot` (an axes-level function for histograms).\n",
            "  warnings.warn(msg, FutureWarning)\n"
          ],
          "name": "stderr"
        },
        {
          "output_type": "display_data",
          "data": {
            "image/png": "[encoded data removed]",
            "text/plain": [
              "<Figure size 432x288 with 1 Axes>"
            ]
          },
          "metadata": {
            "tags": [],
            "needs_background": "light"
          }
        }
      ]
    },
    {
      "cell_type": "code",
      "metadata": {
        "colab": {
          "base_uri": "https://localhost:8080/",
          "height": 467
        },
        "id": "VPwJojf0vnig",
        "outputId": "826b8075-2448-48c2-e0a4-72bd312dbd8c"
      },
      "source": [
        "plt.figure(figsize=(16,6))\n",
        "df = tracks.drop(['id','name','artists','id_artists'],axis=1)\n",
        "heatmap=sns.heatmap(df.corr(), xticklabels=df.columns, yticklabels=df.columns , vmin=-1, vmax=1, center=0,annot=True)\n",
        "heatmap.set(xlim=(0,14))\n",
        "heatmap.set(ylim=(0,14))\n",
        "plt.show()"
      ],
      "execution_count": 19,
      "outputs": [
        {
          "output_type": "display_data",
          "data": {
            "image/png": "[encoded data removed]",
            "text/plain": [
              "<Figure size 1152x432 with 2 Axes>"
            ]
          },
          "metadata": {
            "tags": [],
            "needs_background": "light"
          }
        }
      ]
    },
    {
      "cell_type": "markdown",
      "metadata": {
        "id": "LJ3ktopUqWPb"
      },
      "source": [
        "# **Notable Info**"
      ]
    },
    {
      "cell_type": "markdown",
      "metadata": {
        "id": "loAfqk6ohU90"
      },
      "source": [
        "**Finding the most popular track**"
      ]
    },
    {
      "cell_type": "code",
      "metadata": {
        "colab": {
          "background_save": true
        },
        "id": "eB7LdXUsg9Vu",
        "outputId": "3ea9d8d3-9828-4cb6-c2b2-ed9aac36a6b7"
      },
      "source": [
        "tracks[tracks[\"popularity\"]==100]"
      ],
      "execution_count": null,
      "outputs": [
        {
          "output_type": "execute_result",
          "data": {
            "text/html": [
              "<div>\n",
              "<style scoped>\n",
              "    .dataframe tbody tr th:only-of-type {\n",
              "        vertical-align: middle;\n",
              "    }\n",
              "\n",
              "    .dataframe tbody tr th {\n",
              "        vertical-align: top;\n",
              "    }\n",
              "\n",
              "    .dataframe thead th {\n",
              "        text-align: right;\n",
              "    }\n",
              "</style>\n",
              "<table border=\"1\" class=\"dataframe\">\n",
              "  <thead>\n",
              "    <tr style=\"text-align: right;\">\n",
              "      <th></th>\n",
              "      <th>id</th>\n",
              "      <th>name</th>\n",
              "      <th>popularity</th>\n",
              "      <th>duration_ms</th>\n",
              "      <th>explicit</th>\n",
              "      <th>artists</th>\n",
              "      <th>id_artists</th>\n",
              "      <th>release_date</th>\n",
              "      <th>danceability</th>\n",
              "      <th>energy</th>\n",
              "      <th>key</th>\n",
              "      <th>loudness</th>\n",
              "      <th>mode</th>\n",
              "      <th>speechiness</th>\n",
              "      <th>acousticness</th>\n",
              "      <th>instrumentalness</th>\n",
              "      <th>liveness</th>\n",
              "      <th>valence</th>\n",
              "      <th>tempo</th>\n",
              "      <th>time_signature</th>\n",
              "    </tr>\n",
              "  </thead>\n",
              "  <tbody>\n",
              "    <tr>\n",
              "      <th>93802</th>\n",
              "      <td>4iJyoBOLtHqaGxP12qzhQI</td>\n",
              "      <td>Peaches (feat. Daniel Caesar &amp; Giveon)</td>\n",
              "      <td>100</td>\n",
              "      <td>198082</td>\n",
              "      <td>1</td>\n",
              "      <td>['Justin Bieber', 'Daniel Caesar', 'Giveon']</td>\n",
              "      <td>['1uNFoZAHBGtllmzznpCI3s', '20wkVLutqVOYrc0kxF...</td>\n",
              "      <td>2021-03-19</td>\n",
              "      <td>0.677</td>\n",
              "      <td>0.696</td>\n",
              "      <td>0</td>\n",
              "      <td>-6.181</td>\n",
              "      <td>1</td>\n",
              "      <td>0.119</td>\n",
              "      <td>0.321</td>\n",
              "      <td>0.0</td>\n",
              "      <td>0.42</td>\n",
              "      <td>0.464</td>\n",
              "      <td>90.03</td>\n",
              "      <td>4</td>\n",
              "    </tr>\n",
              "  </tbody>\n",
              "</table>\n",
              "</div>"
            ],
            "text/plain": [
              "                           id  ... time_signature\n",
              "93802  4iJyoBOLtHqaGxP12qzhQI  ...              4\n",
              "\n",
              "[1 rows x 20 columns]"
            ]
          },
          "metadata": {
            "tags": []
          },
          "execution_count": 0
        }
      ]
    },
    {
      "cell_type": "markdown",
      "metadata": {
        "id": "lRnFGflqhoqB"
      },
      "source": [
        "**Finding the most danceable track**"
      ]
    },
    {
      "cell_type": "code",
      "metadata": {
        "colab": {
          "background_save": true
        },
        "id": "UTqH2rBRhtW-",
        "outputId": "953335f2-1227-4a11-a3b7-400e2971d413"
      },
      "source": [
        "tracks[tracks[\"danceability\"]==0.991]"
      ],
      "execution_count": null,
      "outputs": [
        {
          "output_type": "execute_result",
          "data": {
            "text/html": [
              "<div>\n",
              "<style scoped>\n",
              "    .dataframe tbody tr th:only-of-type {\n",
              "        vertical-align: middle;\n",
              "    }\n",
              "\n",
              "    .dataframe tbody tr th {\n",
              "        vertical-align: top;\n",
              "    }\n",
              "\n",
              "    .dataframe thead th {\n",
              "        text-align: right;\n",
              "    }\n",
              "</style>\n",
              "<table border=\"1\" class=\"dataframe\">\n",
              "  <thead>\n",
              "    <tr style=\"text-align: right;\">\n",
              "      <th></th>\n",
              "      <th>id</th>\n",
              "      <th>name</th>\n",
              "      <th>popularity</th>\n",
              "      <th>duration_ms</th>\n",
              "      <th>explicit</th>\n",
              "      <th>artists</th>\n",
              "      <th>id_artists</th>\n",
              "      <th>release_date</th>\n",
              "      <th>danceability</th>\n",
              "      <th>energy</th>\n",
              "      <th>key</th>\n",
              "      <th>loudness</th>\n",
              "      <th>mode</th>\n",
              "      <th>speechiness</th>\n",
              "      <th>acousticness</th>\n",
              "      <th>instrumentalness</th>\n",
              "      <th>liveness</th>\n",
              "      <th>valence</th>\n",
              "      <th>tempo</th>\n",
              "      <th>time_signature</th>\n",
              "    </tr>\n",
              "  </thead>\n",
              "  <tbody>\n",
              "    <tr>\n",
              "      <th>418558</th>\n",
              "      <td>4tq7Q9bTkLqzXNUi8PVmk2</td>\n",
              "      <td>Puisorul cafeniu</td>\n",
              "      <td>15</td>\n",
              "      <td>84707</td>\n",
              "      <td>0</td>\n",
              "      <td>['Malina Olinescu']</td>\n",
              "      <td>['6KZH1ER38F5smKpXKmLRwb']</td>\n",
              "      <td>2002-01-01</td>\n",
              "      <td>0.991</td>\n",
              "      <td>0.422</td>\n",
              "      <td>0</td>\n",
              "      <td>-11.093</td>\n",
              "      <td>1</td>\n",
              "      <td>0.247</td>\n",
              "      <td>0.307</td>\n",
              "      <td>0.0176</td>\n",
              "      <td>0.0788</td>\n",
              "      <td>0.994</td>\n",
              "      <td>119.975</td>\n",
              "      <td>4</td>\n",
              "    </tr>\n",
              "  </tbody>\n",
              "</table>\n",
              "</div>"
            ],
            "text/plain": [
              "                            id              name  ...    tempo  time_signature\n",
              "418558  4tq7Q9bTkLqzXNUi8PVmk2  Puisorul cafeniu  ...  119.975               4\n",
              "\n",
              "[1 rows x 20 columns]"
            ]
          },
          "metadata": {
            "tags": []
          },
          "execution_count": 0
        }
      ]
    },
    {
      "cell_type": "markdown",
      "metadata": {
        "id": "b4lsS8TqiEMj"
      },
      "source": [
        "**Finding the most energic tracks**"
      ]
    },
    {
      "cell_type": "code",
      "metadata": {
        "colab": {
          "background_save": true
        },
        "id": "Ktkz9NauiFHm",
        "outputId": "7459f587-ae23-41e1-d88d-ecf9484eba2b"
      },
      "source": [
        "tracks[tracks[\"energy\"]==1]"
      ],
      "execution_count": null,
      "outputs": [
        {
          "output_type": "execute_result",
          "data": {
            "text/html": [
              "<div>\n",
              "<style scoped>\n",
              "    .dataframe tbody tr th:only-of-type {\n",
              "        vertical-align: middle;\n",
              "    }\n",
              "\n",
              "    .dataframe tbody tr th {\n",
              "        vertical-align: top;\n",
              "    }\n",
              "\n",
              "    .dataframe thead th {\n",
              "        text-align: right;\n",
              "    }\n",
              "</style>\n",
              "<table border=\"1\" class=\"dataframe\">\n",
              "  <thead>\n",
              "    <tr style=\"text-align: right;\">\n",
              "      <th></th>\n",
              "      <th>id</th>\n",
              "      <th>name</th>\n",
              "      <th>popularity</th>\n",
              "      <th>duration_ms</th>\n",
              "      <th>explicit</th>\n",
              "      <th>artists</th>\n",
              "      <th>id_artists</th>\n",
              "      <th>release_date</th>\n",
              "      <th>danceability</th>\n",
              "      <th>energy</th>\n",
              "      <th>key</th>\n",
              "      <th>loudness</th>\n",
              "      <th>mode</th>\n",
              "      <th>speechiness</th>\n",
              "      <th>acousticness</th>\n",
              "      <th>instrumentalness</th>\n",
              "      <th>liveness</th>\n",
              "      <th>valence</th>\n",
              "      <th>tempo</th>\n",
              "      <th>time_signature</th>\n",
              "    </tr>\n",
              "  </thead>\n",
              "  <tbody>\n",
              "    <tr>\n",
              "      <th>2353</th>\n",
              "      <td>2cODstPu4nOAIFfwnvNEwx</td>\n",
              "      <td>Moi J'fais Mes Coups En Dessous</td>\n",
              "      <td>0</td>\n",
              "      <td>190493</td>\n",
              "      <td>0</td>\n",
              "      <td>['Maurice Chevalier']</td>\n",
              "      <td>['3QXjI80udwDSEfxK5BjUXc']</td>\n",
              "      <td>1926</td>\n",
              "      <td>0.166</td>\n",
              "      <td>1.0</td>\n",
              "      <td>4</td>\n",
              "      <td>-4.373</td>\n",
              "      <td>0</td>\n",
              "      <td>0.0643</td>\n",
              "      <td>0.131000</td>\n",
              "      <td>0.311000</td>\n",
              "      <td>0.333</td>\n",
              "      <td>0.00001</td>\n",
              "      <td>116.707</td>\n",
              "      <td>3</td>\n",
              "    </tr>\n",
              "    <tr>\n",
              "      <th>12240</th>\n",
              "      <td>6xYZrESY382GI6CcleGtps</td>\n",
              "      <td>I'm Bubbling Over (Reprise)</td>\n",
              "      <td>0</td>\n",
              "      <td>79681</td>\n",
              "      <td>0</td>\n",
              "      <td>['Condos Brothers', 'Ben Bernie &amp; His Orchestra']</td>\n",
              "      <td>['6TcMKIvyZqLZOA2P0GrIaw', '5HOzq7et69WsiVJbZD...</td>\n",
              "      <td>1937-08-03</td>\n",
              "      <td>0.627</td>\n",
              "      <td>1.0</td>\n",
              "      <td>5</td>\n",
              "      <td>-9.253</td>\n",
              "      <td>1</td>\n",
              "      <td>0.2040</td>\n",
              "      <td>0.600000</td>\n",
              "      <td>0.934000</td>\n",
              "      <td>0.706</td>\n",
              "      <td>0.02780</td>\n",
              "      <td>116.150</td>\n",
              "      <td>4</td>\n",
              "    </tr>\n",
              "    <tr>\n",
              "      <th>12336</th>\n",
              "      <td>3RFogvPJRYXVCv9qlotTKK</td>\n",
              "      <td>Applause; Transition Back to Goodman Orchestra...</td>\n",
              "      <td>6</td>\n",
              "      <td>41093</td>\n",
              "      <td>0</td>\n",
              "      <td>['Benny Goodman']</td>\n",
              "      <td>['1pBuKaLHJlIlqYxQQaflve']</td>\n",
              "      <td>1938</td>\n",
              "      <td>0.302</td>\n",
              "      <td>1.0</td>\n",
              "      <td>11</td>\n",
              "      <td>-22.887</td>\n",
              "      <td>0</td>\n",
              "      <td>0.0635</td>\n",
              "      <td>0.835000</td>\n",
              "      <td>0.693000</td>\n",
              "      <td>0.951</td>\n",
              "      <td>0.00001</td>\n",
              "      <td>98.839</td>\n",
              "      <td>4</td>\n",
              "    </tr>\n",
              "    <tr>\n",
              "      <th>12341</th>\n",
              "      <td>4jmpeJO5XS9MukFzhARGrS</td>\n",
              "      <td>Applause; Benny Goodman's 'No Encore' Announce...</td>\n",
              "      <td>7</td>\n",
              "      <td>73933</td>\n",
              "      <td>0</td>\n",
              "      <td>['Benny Goodman']</td>\n",
              "      <td>['1pBuKaLHJlIlqYxQQaflve']</td>\n",
              "      <td>1938</td>\n",
              "      <td>0.244</td>\n",
              "      <td>1.0</td>\n",
              "      <td>11</td>\n",
              "      <td>-19.537</td>\n",
              "      <td>1</td>\n",
              "      <td>0.0972</td>\n",
              "      <td>0.880000</td>\n",
              "      <td>0.889000</td>\n",
              "      <td>0.403</td>\n",
              "      <td>0.00001</td>\n",
              "      <td>95.123</td>\n",
              "      <td>4</td>\n",
              "    </tr>\n",
              "    <tr>\n",
              "      <th>12595</th>\n",
              "      <td>4MeVaz1Ki3nEofHif86bAd</td>\n",
              "      <td>Applause as Lionel Hampton Enters - Live</td>\n",
              "      <td>0</td>\n",
              "      <td>26640</td>\n",
              "      <td>0</td>\n",
              "      <td>['Benny Goodman']</td>\n",
              "      <td>['1pBuKaLHJlIlqYxQQaflve']</td>\n",
              "      <td>1938</td>\n",
              "      <td>0.305</td>\n",
              "      <td>1.0</td>\n",
              "      <td>9</td>\n",
              "      <td>-20.422</td>\n",
              "      <td>0</td>\n",
              "      <td>0.2370</td>\n",
              "      <td>0.315000</td>\n",
              "      <td>0.717000</td>\n",
              "      <td>0.366</td>\n",
              "      <td>0.00001</td>\n",
              "      <td>123.257</td>\n",
              "      <td>4</td>\n",
              "    </tr>\n",
              "    <tr>\n",
              "      <th>...</th>\n",
              "      <td>...</td>\n",
              "      <td>...</td>\n",
              "      <td>...</td>\n",
              "      <td>...</td>\n",
              "      <td>...</td>\n",
              "      <td>...</td>\n",
              "      <td>...</td>\n",
              "      <td>...</td>\n",
              "      <td>...</td>\n",
              "      <td>...</td>\n",
              "      <td>...</td>\n",
              "      <td>...</td>\n",
              "      <td>...</td>\n",
              "      <td>...</td>\n",
              "      <td>...</td>\n",
              "      <td>...</td>\n",
              "      <td>...</td>\n",
              "      <td>...</td>\n",
              "      <td>...</td>\n",
              "      <td>...</td>\n",
              "    </tr>\n",
              "    <tr>\n",
              "      <th>499713</th>\n",
              "      <td>5p5bOPNAYS5gDntiYr1Clv</td>\n",
              "      <td>Hubschraubereinsatz</td>\n",
              "      <td>41</td>\n",
              "      <td>214653</td>\n",
              "      <td>0</td>\n",
              "      <td>['DJ Düse']</td>\n",
              "      <td>['05rSvf1zNgSF9sQa5ulkFs']</td>\n",
              "      <td>2009-01-01</td>\n",
              "      <td>0.708</td>\n",
              "      <td>1.0</td>\n",
              "      <td>8</td>\n",
              "      <td>-1.186</td>\n",
              "      <td>1</td>\n",
              "      <td>0.1490</td>\n",
              "      <td>0.103000</td>\n",
              "      <td>0.000641</td>\n",
              "      <td>0.717</td>\n",
              "      <td>0.65200</td>\n",
              "      <td>143.986</td>\n",
              "      <td>4</td>\n",
              "    </tr>\n",
              "    <tr>\n",
              "      <th>500552</th>\n",
              "      <td>0dDvEjTmTa1n2X7shN3gE0</td>\n",
              "      <td>Aua im Kopf (Morgen sind wir schlauer...)</td>\n",
              "      <td>51</td>\n",
              "      <td>205251</td>\n",
              "      <td>0</td>\n",
              "      <td>['Tobee']</td>\n",
              "      <td>['5HvFk00KrkDIPJuzSLFd0r']</td>\n",
              "      <td>2016-05-06</td>\n",
              "      <td>0.736</td>\n",
              "      <td>1.0</td>\n",
              "      <td>6</td>\n",
              "      <td>-1.820</td>\n",
              "      <td>0</td>\n",
              "      <td>0.1280</td>\n",
              "      <td>0.055900</td>\n",
              "      <td>0.000000</td>\n",
              "      <td>0.354</td>\n",
              "      <td>0.79100</td>\n",
              "      <td>144.060</td>\n",
              "      <td>4</td>\n",
              "    </tr>\n",
              "    <tr>\n",
              "      <th>503581</th>\n",
              "      <td>6lJstSMcbosFzereFQ3bWm</td>\n",
              "      <td>Transilvanian Hunger</td>\n",
              "      <td>27</td>\n",
              "      <td>369760</td>\n",
              "      <td>0</td>\n",
              "      <td>['Darkthrone']</td>\n",
              "      <td>['7kWnE981vITXDnAD2cZmCV']</td>\n",
              "      <td>1994-02-17</td>\n",
              "      <td>0.271</td>\n",
              "      <td>1.0</td>\n",
              "      <td>4</td>\n",
              "      <td>-4.902</td>\n",
              "      <td>0</td>\n",
              "      <td>0.1330</td>\n",
              "      <td>0.017600</td>\n",
              "      <td>0.438000</td>\n",
              "      <td>0.394</td>\n",
              "      <td>0.02170</td>\n",
              "      <td>138.501</td>\n",
              "      <td>4</td>\n",
              "    </tr>\n",
              "    <tr>\n",
              "      <th>512717</th>\n",
              "      <td>3sxaFKJ1rIH8mDBDrikuMH</td>\n",
              "      <td>Suno Suno Tumhen Sunaye</td>\n",
              "      <td>0</td>\n",
              "      <td>163154</td>\n",
              "      <td>0</td>\n",
              "      <td>['K Dutta']</td>\n",
              "      <td>['2sOPDx3ICYZJspPHFZNysM']</td>\n",
              "      <td>1944-12-31</td>\n",
              "      <td>0.000</td>\n",
              "      <td>1.0</td>\n",
              "      <td>1</td>\n",
              "      <td>-4.363</td>\n",
              "      <td>1</td>\n",
              "      <td>0.0000</td>\n",
              "      <td>0.202000</td>\n",
              "      <td>0.999000</td>\n",
              "      <td>0.647</td>\n",
              "      <td>0.00000</td>\n",
              "      <td>0.000</td>\n",
              "      <td>0</td>\n",
              "    </tr>\n",
              "    <tr>\n",
              "      <th>585168</th>\n",
              "      <td>4ocpfg0qdIoOvvvtI9gEbU</td>\n",
              "      <td>Infinite Sunsets (Ray Reverse Remix) - Mixed</td>\n",
              "      <td>6</td>\n",
              "      <td>220853</td>\n",
              "      <td>0</td>\n",
              "      <td>['Starpicker', 'Ray Reverse']</td>\n",
              "      <td>['1n6m0hJ3GGiRBqUy4mUbC3', '5GQwyzOr0W81TA2Ahc...</td>\n",
              "      <td>2020-12-25</td>\n",
              "      <td>0.423</td>\n",
              "      <td>1.0</td>\n",
              "      <td>9</td>\n",
              "      <td>-5.454</td>\n",
              "      <td>0</td>\n",
              "      <td>0.1200</td>\n",
              "      <td>0.000304</td>\n",
              "      <td>0.689000</td>\n",
              "      <td>0.491</td>\n",
              "      <td>0.03780</td>\n",
              "      <td>139.018</td>\n",
              "      <td>4</td>\n",
              "    </tr>\n",
              "  </tbody>\n",
              "</table>\n",
              "<p>64 rows × 20 columns</p>\n",
              "</div>"
            ],
            "text/plain": [
              "                            id  ... time_signature\n",
              "2353    2cODstPu4nOAIFfwnvNEwx  ...              3\n",
              "12240   6xYZrESY382GI6CcleGtps  ...              4\n",
              "12336   3RFogvPJRYXVCv9qlotTKK  ...              4\n",
              "12341   4jmpeJO5XS9MukFzhARGrS  ...              4\n",
              "12595   4MeVaz1Ki3nEofHif86bAd  ...              4\n",
              "...                        ...  ...            ...\n",
              "499713  5p5bOPNAYS5gDntiYr1Clv  ...              4\n",
              "500552  0dDvEjTmTa1n2X7shN3gE0  ...              4\n",
              "503581  6lJstSMcbosFzereFQ3bWm  ...              4\n",
              "512717  3sxaFKJ1rIH8mDBDrikuMH  ...              0\n",
              "585168  4ocpfg0qdIoOvvvtI9gEbU  ...              4\n",
              "\n",
              "[64 rows x 20 columns]"
            ]
          },
          "metadata": {
            "tags": []
          },
          "execution_count": 0
        }
      ]
    },
    {
      "cell_type": "markdown",
      "metadata": {
        "id": "n0Bnyh0roE0k"
      },
      "source": [
        "**Finding EBI's tracks**"
      ]
    },
    {
      "cell_type": "code",
      "metadata": {
        "colab": {
          "background_save": true
        },
        "id": "pqHqNKo4oOME",
        "outputId": "3c1e857e-03a3-4647-c3f7-fce3c85fb90a"
      },
      "source": [
        "EBI=tracks.loc[tracks.artists.isin([\"['Ebi']\"])]\n",
        "EBI"
      ],
      "execution_count": null,
      "outputs": [
        {
          "output_type": "execute_result",
          "data": {
            "text/html": [
              "<div>\n",
              "<style scoped>\n",
              "    .dataframe tbody tr th:only-of-type {\n",
              "        vertical-align: middle;\n",
              "    }\n",
              "\n",
              "    .dataframe tbody tr th {\n",
              "        vertical-align: top;\n",
              "    }\n",
              "\n",
              "    .dataframe thead th {\n",
              "        text-align: right;\n",
              "    }\n",
              "</style>\n",
              "<table border=\"1\" class=\"dataframe\">\n",
              "  <thead>\n",
              "    <tr style=\"text-align: right;\">\n",
              "      <th></th>\n",
              "      <th>id</th>\n",
              "      <th>name</th>\n",
              "      <th>popularity</th>\n",
              "      <th>duration_ms</th>\n",
              "      <th>explicit</th>\n",
              "      <th>artists</th>\n",
              "      <th>id_artists</th>\n",
              "      <th>release_date</th>\n",
              "      <th>danceability</th>\n",
              "      <th>energy</th>\n",
              "      <th>key</th>\n",
              "      <th>loudness</th>\n",
              "      <th>mode</th>\n",
              "      <th>speechiness</th>\n",
              "      <th>acousticness</th>\n",
              "      <th>instrumentalness</th>\n",
              "      <th>liveness</th>\n",
              "      <th>valence</th>\n",
              "      <th>tempo</th>\n",
              "      <th>time_signature</th>\n",
              "    </tr>\n",
              "  </thead>\n",
              "  <tbody>\n",
              "    <tr>\n",
              "      <th>233902</th>\n",
              "      <td>0pZqMBwwQfJ93djJBFAijs</td>\n",
              "      <td>Golvajeh</td>\n",
              "      <td>31</td>\n",
              "      <td>248493</td>\n",
              "      <td>0</td>\n",
              "      <td>['Ebi']</td>\n",
              "      <td>['3pI1XXzzKOYdYCLWurc2Ky']</td>\n",
              "      <td>1979-06-15</td>\n",
              "      <td>0.467</td>\n",
              "      <td>0.360</td>\n",
              "      <td>9</td>\n",
              "      <td>-12.648</td>\n",
              "      <td>0</td>\n",
              "      <td>0.0513</td>\n",
              "      <td>0.888</td>\n",
              "      <td>0.001250</td>\n",
              "      <td>0.3020</td>\n",
              "      <td>0.818</td>\n",
              "      <td>165.757</td>\n",
              "      <td>4</td>\n",
              "    </tr>\n",
              "    <tr>\n",
              "      <th>260141</th>\n",
              "      <td>3TlP50FTm69aaLaQGuQkpV</td>\n",
              "      <td>Pichak</td>\n",
              "      <td>31</td>\n",
              "      <td>238893</td>\n",
              "      <td>0</td>\n",
              "      <td>['Ebi']</td>\n",
              "      <td>['3pI1XXzzKOYdYCLWurc2Ky']</td>\n",
              "      <td>1988-03-05</td>\n",
              "      <td>0.578</td>\n",
              "      <td>0.490</td>\n",
              "      <td>10</td>\n",
              "      <td>-11.677</td>\n",
              "      <td>0</td>\n",
              "      <td>0.0344</td>\n",
              "      <td>0.804</td>\n",
              "      <td>0.000000</td>\n",
              "      <td>0.1360</td>\n",
              "      <td>0.549</td>\n",
              "      <td>132.373</td>\n",
              "      <td>4</td>\n",
              "    </tr>\n",
              "    <tr>\n",
              "      <th>300235</th>\n",
              "      <td>5PwZD0bbcwM9xCwIGA2muS</td>\n",
              "      <td>Gheseh Eshgh</td>\n",
              "      <td>38</td>\n",
              "      <td>250307</td>\n",
              "      <td>0</td>\n",
              "      <td>['Ebi']</td>\n",
              "      <td>['3pI1XXzzKOYdYCLWurc2Ky']</td>\n",
              "      <td>1991-02-20</td>\n",
              "      <td>0.845</td>\n",
              "      <td>0.599</td>\n",
              "      <td>2</td>\n",
              "      <td>-11.122</td>\n",
              "      <td>0</td>\n",
              "      <td>0.1590</td>\n",
              "      <td>0.705</td>\n",
              "      <td>0.000000</td>\n",
              "      <td>0.1510</td>\n",
              "      <td>0.922</td>\n",
              "      <td>114.898</td>\n",
              "      <td>4</td>\n",
              "    </tr>\n",
              "    <tr>\n",
              "      <th>300281</th>\n",
              "      <td>05DB7X5RlVGBzNff2MquhC</td>\n",
              "      <td>Nazi Naz Kon</td>\n",
              "      <td>36</td>\n",
              "      <td>316627</td>\n",
              "      <td>0</td>\n",
              "      <td>['Ebi']</td>\n",
              "      <td>['3pI1XXzzKOYdYCLWurc2Ky']</td>\n",
              "      <td>1991-06-27</td>\n",
              "      <td>0.510</td>\n",
              "      <td>0.565</td>\n",
              "      <td>11</td>\n",
              "      <td>-8.542</td>\n",
              "      <td>0</td>\n",
              "      <td>0.0484</td>\n",
              "      <td>0.418</td>\n",
              "      <td>0.000000</td>\n",
              "      <td>0.1070</td>\n",
              "      <td>0.515</td>\n",
              "      <td>133.179</td>\n",
              "      <td>4</td>\n",
              "    </tr>\n",
              "    <tr>\n",
              "      <th>300294</th>\n",
              "      <td>7c9vvLrzTV5KhhaOcS5ztP</td>\n",
              "      <td>Pooste Shir</td>\n",
              "      <td>34</td>\n",
              "      <td>191773</td>\n",
              "      <td>0</td>\n",
              "      <td>['Ebi']</td>\n",
              "      <td>['3pI1XXzzKOYdYCLWurc2Ky']</td>\n",
              "      <td>1991-06-27</td>\n",
              "      <td>0.285</td>\n",
              "      <td>0.445</td>\n",
              "      <td>11</td>\n",
              "      <td>-9.309</td>\n",
              "      <td>0</td>\n",
              "      <td>0.0380</td>\n",
              "      <td>0.730</td>\n",
              "      <td>0.000000</td>\n",
              "      <td>0.1530</td>\n",
              "      <td>0.398</td>\n",
              "      <td>89.286</td>\n",
              "      <td>4</td>\n",
              "    </tr>\n",
              "    <tr>\n",
              "      <th>300956</th>\n",
              "      <td>75wR9u92iSZtRuLFQSkgiF</td>\n",
              "      <td>Ghebleh</td>\n",
              "      <td>39</td>\n",
              "      <td>279053</td>\n",
              "      <td>0</td>\n",
              "      <td>['Ebi']</td>\n",
              "      <td>['3pI1XXzzKOYdYCLWurc2Ky']</td>\n",
              "      <td>1995-01-01</td>\n",
              "      <td>0.639</td>\n",
              "      <td>0.462</td>\n",
              "      <td>7</td>\n",
              "      <td>-9.451</td>\n",
              "      <td>1</td>\n",
              "      <td>0.0328</td>\n",
              "      <td>0.814</td>\n",
              "      <td>0.000000</td>\n",
              "      <td>0.1820</td>\n",
              "      <td>0.621</td>\n",
              "      <td>128.902</td>\n",
              "      <td>3</td>\n",
              "    </tr>\n",
              "    <tr>\n",
              "      <th>301209</th>\n",
              "      <td>4Fyb2OMEx1xBiSrO7FsGcO</td>\n",
              "      <td>Atreh Toh</td>\n",
              "      <td>37</td>\n",
              "      <td>287817</td>\n",
              "      <td>0</td>\n",
              "      <td>['Ebi']</td>\n",
              "      <td>['3pI1XXzzKOYdYCLWurc2Ky']</td>\n",
              "      <td>1996</td>\n",
              "      <td>0.606</td>\n",
              "      <td>0.499</td>\n",
              "      <td>5</td>\n",
              "      <td>-12.176</td>\n",
              "      <td>0</td>\n",
              "      <td>0.0515</td>\n",
              "      <td>0.437</td>\n",
              "      <td>0.000002</td>\n",
              "      <td>0.1140</td>\n",
              "      <td>0.707</td>\n",
              "      <td>143.931</td>\n",
              "      <td>4</td>\n",
              "    </tr>\n",
              "    <tr>\n",
              "      <th>364417</th>\n",
              "      <td>04UfII2w4nrqX34USAzkGw</td>\n",
              "      <td>Shabzadeh</td>\n",
              "      <td>30</td>\n",
              "      <td>296840</td>\n",
              "      <td>0</td>\n",
              "      <td>['Ebi']</td>\n",
              "      <td>['3pI1XXzzKOYdYCLWurc2Ky']</td>\n",
              "      <td>1988-03-05</td>\n",
              "      <td>0.548</td>\n",
              "      <td>0.451</td>\n",
              "      <td>2</td>\n",
              "      <td>-12.187</td>\n",
              "      <td>0</td>\n",
              "      <td>0.0423</td>\n",
              "      <td>0.368</td>\n",
              "      <td>0.000003</td>\n",
              "      <td>0.1490</td>\n",
              "      <td>0.376</td>\n",
              "      <td>102.621</td>\n",
              "      <td>4</td>\n",
              "    </tr>\n",
              "    <tr>\n",
              "      <th>364838</th>\n",
              "      <td>4537oC0JfzmGXi3r3TyCCK</td>\n",
              "      <td>Madad Rangi</td>\n",
              "      <td>30</td>\n",
              "      <td>306333</td>\n",
              "      <td>0</td>\n",
              "      <td>['Ebi']</td>\n",
              "      <td>['3pI1XXzzKOYdYCLWurc2Ky']</td>\n",
              "      <td>1989-08-20</td>\n",
              "      <td>0.637</td>\n",
              "      <td>0.439</td>\n",
              "      <td>7</td>\n",
              "      <td>-12.156</td>\n",
              "      <td>0</td>\n",
              "      <td>0.0317</td>\n",
              "      <td>0.133</td>\n",
              "      <td>0.000006</td>\n",
              "      <td>0.0776</td>\n",
              "      <td>0.689</td>\n",
              "      <td>112.138</td>\n",
              "      <td>3</td>\n",
              "    </tr>\n",
              "    <tr>\n",
              "      <th>365756</th>\n",
              "      <td>3UOWPDqltRvOviBKQepc9c</td>\n",
              "      <td>Hezaro Yek Shab</td>\n",
              "      <td>32</td>\n",
              "      <td>264176</td>\n",
              "      <td>0</td>\n",
              "      <td>['Ebi']</td>\n",
              "      <td>['3pI1XXzzKOYdYCLWurc2Ky']</td>\n",
              "      <td>1992</td>\n",
              "      <td>0.549</td>\n",
              "      <td>0.524</td>\n",
              "      <td>11</td>\n",
              "      <td>-12.766</td>\n",
              "      <td>0</td>\n",
              "      <td>0.0420</td>\n",
              "      <td>0.111</td>\n",
              "      <td>0.000000</td>\n",
              "      <td>0.3890</td>\n",
              "      <td>0.568</td>\n",
              "      <td>125.137</td>\n",
              "      <td>4</td>\n",
              "    </tr>\n",
              "    <tr>\n",
              "      <th>447011</th>\n",
              "      <td>66iiwXdtywywuHi8lJsZx8</td>\n",
              "      <td>Khalij</td>\n",
              "      <td>28</td>\n",
              "      <td>264333</td>\n",
              "      <td>0</td>\n",
              "      <td>['Ebi']</td>\n",
              "      <td>['3pI1XXzzKOYdYCLWurc2Ky']</td>\n",
              "      <td>1989-08-20</td>\n",
              "      <td>0.270</td>\n",
              "      <td>0.269</td>\n",
              "      <td>2</td>\n",
              "      <td>-11.652</td>\n",
              "      <td>0</td>\n",
              "      <td>0.0337</td>\n",
              "      <td>0.845</td>\n",
              "      <td>0.000014</td>\n",
              "      <td>0.1900</td>\n",
              "      <td>0.238</td>\n",
              "      <td>113.789</td>\n",
              "      <td>3</td>\n",
              "    </tr>\n",
              "    <tr>\n",
              "      <th>538942</th>\n",
              "      <td>6GO5HdKsYmqUCgAnHkqPcU</td>\n",
              "      <td>Kee Ashkato Pak Mikoneh</td>\n",
              "      <td>34</td>\n",
              "      <td>298440</td>\n",
              "      <td>0</td>\n",
              "      <td>['Ebi']</td>\n",
              "      <td>['3pI1XXzzKOYdYCLWurc2Ky']</td>\n",
              "      <td>1995-01-01</td>\n",
              "      <td>0.500</td>\n",
              "      <td>0.264</td>\n",
              "      <td>11</td>\n",
              "      <td>-11.754</td>\n",
              "      <td>1</td>\n",
              "      <td>0.0323</td>\n",
              "      <td>0.801</td>\n",
              "      <td>0.000000</td>\n",
              "      <td>0.0921</td>\n",
              "      <td>0.199</td>\n",
              "      <td>122.465</td>\n",
              "      <td>4</td>\n",
              "    </tr>\n",
              "    <tr>\n",
              "      <th>564360</th>\n",
              "      <td>0nN0ulLFZJNOUbvde9atUi</td>\n",
              "      <td>Koohe Yakh</td>\n",
              "      <td>12</td>\n",
              "      <td>320000</td>\n",
              "      <td>0</td>\n",
              "      <td>['Ebi']</td>\n",
              "      <td>['3pI1XXzzKOYdYCLWurc2Ky']</td>\n",
              "      <td>1991-02-20</td>\n",
              "      <td>0.558</td>\n",
              "      <td>0.543</td>\n",
              "      <td>4</td>\n",
              "      <td>-9.093</td>\n",
              "      <td>0</td>\n",
              "      <td>0.0257</td>\n",
              "      <td>0.604</td>\n",
              "      <td>0.212000</td>\n",
              "      <td>0.1310</td>\n",
              "      <td>0.442</td>\n",
              "      <td>108.598</td>\n",
              "      <td>4</td>\n",
              "    </tr>\n",
              "  </tbody>\n",
              "</table>\n",
              "</div>"
            ],
            "text/plain": [
              "                            id  ... time_signature\n",
              "233902  0pZqMBwwQfJ93djJBFAijs  ...              4\n",
              "260141  3TlP50FTm69aaLaQGuQkpV  ...              4\n",
              "300235  5PwZD0bbcwM9xCwIGA2muS  ...              4\n",
              "300281  05DB7X5RlVGBzNff2MquhC  ...              4\n",
              "300294  7c9vvLrzTV5KhhaOcS5ztP  ...              4\n",
              "300956  75wR9u92iSZtRuLFQSkgiF  ...              3\n",
              "301209  4Fyb2OMEx1xBiSrO7FsGcO  ...              4\n",
              "364417  04UfII2w4nrqX34USAzkGw  ...              4\n",
              "364838  4537oC0JfzmGXi3r3TyCCK  ...              3\n",
              "365756  3UOWPDqltRvOviBKQepc9c  ...              4\n",
              "447011  66iiwXdtywywuHi8lJsZx8  ...              3\n",
              "538942  6GO5HdKsYmqUCgAnHkqPcU  ...              4\n",
              "564360  0nN0ulLFZJNOUbvde9atUi  ...              4\n",
              "\n",
              "[13 rows x 20 columns]"
            ]
          },
          "metadata": {
            "tags": []
          },
          "execution_count": 0
        }
      ]
    },
    {
      "cell_type": "markdown",
      "metadata": {
        "id": "J9psAnxkqDa-"
      },
      "source": [
        "**Finding EBI's tracks popularity**"
      ]
    },
    {
      "cell_type": "code",
      "metadata": {
        "colab": {
          "background_save": true
        },
        "id": "hIhyT8QseUxp",
        "outputId": "9d578ddd-ed85-47fb-8ed6-84a99569fe13"
      },
      "source": [
        "EBI.groupby(\"popularity\").popularity.count()"
      ],
      "execution_count": null,
      "outputs": [
        {
          "output_type": "execute_result",
          "data": {
            "text/plain": [
              "popularity\n",
              "12    1\n",
              "28    1\n",
              "30    2\n",
              "31    2\n",
              "32    1\n",
              "34    2\n",
              "36    1\n",
              "37    1\n",
              "38    1\n",
              "39    1\n",
              "Name: popularity, dtype: int64"
            ]
          },
          "metadata": {
            "tags": []
          },
          "execution_count": 0
        }
      ]
    },
    {
      "cell_type": "markdown",
      "metadata": {
        "id": "X5ea1l9C2hYb"
      },
      "source": [
        "**Finding Googoosh's tracks popularity**"
      ]
    },
    {
      "cell_type": "code",
      "metadata": {
        "colab": {
          "background_save": true
        },
        "id": "pwAJfWpx2ft0",
        "outputId": "cce1a163-91fd-434a-ab02-11957eeebb96"
      },
      "source": [
        "googoosh=tracks.loc[tracks.artists.isin([\"['Googoosh']\"])]\n",
        "googoosh"
      ],
      "execution_count": null,
      "outputs": [
        {
          "output_type": "execute_result",
          "data": {
            "text/html": [
              "<div>\n",
              "<style scoped>\n",
              "    .dataframe tbody tr th:only-of-type {\n",
              "        vertical-align: middle;\n",
              "    }\n",
              "\n",
              "    .dataframe tbody tr th {\n",
              "        vertical-align: top;\n",
              "    }\n",
              "\n",
              "    .dataframe thead th {\n",
              "        text-align: right;\n",
              "    }\n",
              "</style>\n",
              "<table border=\"1\" class=\"dataframe\">\n",
              "  <thead>\n",
              "    <tr style=\"text-align: right;\">\n",
              "      <th></th>\n",
              "      <th>id</th>\n",
              "      <th>name</th>\n",
              "      <th>popularity</th>\n",
              "      <th>duration_ms</th>\n",
              "      <th>explicit</th>\n",
              "      <th>artists</th>\n",
              "      <th>id_artists</th>\n",
              "      <th>release_date</th>\n",
              "      <th>danceability</th>\n",
              "      <th>energy</th>\n",
              "      <th>key</th>\n",
              "      <th>loudness</th>\n",
              "      <th>mode</th>\n",
              "      <th>speechiness</th>\n",
              "      <th>acousticness</th>\n",
              "      <th>instrumentalness</th>\n",
              "      <th>liveness</th>\n",
              "      <th>valence</th>\n",
              "      <th>tempo</th>\n",
              "      <th>time_signature</th>\n",
              "    </tr>\n",
              "  </thead>\n",
              "  <tbody>\n",
              "    <tr>\n",
              "      <th>235050</th>\n",
              "      <td>5wogkX0KqHJBbXwEDroPOQ</td>\n",
              "      <td>Pol</td>\n",
              "      <td>38</td>\n",
              "      <td>348667</td>\n",
              "      <td>0</td>\n",
              "      <td>['Googoosh']</td>\n",
              "      <td>['07L6XZ7QaTsZLP8jwLoFgY']</td>\n",
              "      <td>1992-02-10</td>\n",
              "      <td>0.338</td>\n",
              "      <td>0.332</td>\n",
              "      <td>6</td>\n",
              "      <td>-15.017</td>\n",
              "      <td>0</td>\n",
              "      <td>0.0412</td>\n",
              "      <td>0.505</td>\n",
              "      <td>0.000000</td>\n",
              "      <td>0.1670</td>\n",
              "      <td>0.674</td>\n",
              "      <td>98.524</td>\n",
              "      <td>4</td>\n",
              "    </tr>\n",
              "    <tr>\n",
              "      <th>365101</th>\n",
              "      <td>4svcJnKqBZNExCkXC9hM8t</td>\n",
              "      <td>Mano Tou</td>\n",
              "      <td>33</td>\n",
              "      <td>235680</td>\n",
              "      <td>0</td>\n",
              "      <td>['Googoosh']</td>\n",
              "      <td>['07L6XZ7QaTsZLP8jwLoFgY']</td>\n",
              "      <td>1990-12-13</td>\n",
              "      <td>0.595</td>\n",
              "      <td>0.508</td>\n",
              "      <td>7</td>\n",
              "      <td>-8.109</td>\n",
              "      <td>0</td>\n",
              "      <td>0.0397</td>\n",
              "      <td>0.533</td>\n",
              "      <td>0.000000</td>\n",
              "      <td>0.7280</td>\n",
              "      <td>0.660</td>\n",
              "      <td>113.623</td>\n",
              "      <td>5</td>\n",
              "    </tr>\n",
              "    <tr>\n",
              "      <th>365131</th>\n",
              "      <td>6RnSOAdvpR4rzLU70BgmFd</td>\n",
              "      <td>Kavir</td>\n",
              "      <td>31</td>\n",
              "      <td>206093</td>\n",
              "      <td>0</td>\n",
              "      <td>['Googoosh']</td>\n",
              "      <td>['07L6XZ7QaTsZLP8jwLoFgY']</td>\n",
              "      <td>1990-12-13</td>\n",
              "      <td>0.376</td>\n",
              "      <td>0.495</td>\n",
              "      <td>2</td>\n",
              "      <td>-8.232</td>\n",
              "      <td>1</td>\n",
              "      <td>0.0414</td>\n",
              "      <td>0.500</td>\n",
              "      <td>0.008460</td>\n",
              "      <td>0.0774</td>\n",
              "      <td>0.295</td>\n",
              "      <td>78.111</td>\n",
              "      <td>4</td>\n",
              "    </tr>\n",
              "    <tr>\n",
              "      <th>366693</th>\n",
              "      <td>6VbjG4GCKlofrkUuTeHaWE</td>\n",
              "      <td>Gharibe Ashena</td>\n",
              "      <td>36</td>\n",
              "      <td>237218</td>\n",
              "      <td>0</td>\n",
              "      <td>['Googoosh']</td>\n",
              "      <td>['07L6XZ7QaTsZLP8jwLoFgY']</td>\n",
              "      <td>1995</td>\n",
              "      <td>0.435</td>\n",
              "      <td>0.400</td>\n",
              "      <td>9</td>\n",
              "      <td>-9.434</td>\n",
              "      <td>0</td>\n",
              "      <td>0.0326</td>\n",
              "      <td>0.755</td>\n",
              "      <td>0.000000</td>\n",
              "      <td>0.0647</td>\n",
              "      <td>0.555</td>\n",
              "      <td>79.709</td>\n",
              "      <td>4</td>\n",
              "    </tr>\n",
              "    <tr>\n",
              "      <th>538647</th>\n",
              "      <td>1VaLqJKV7l4holKIgHWknd</td>\n",
              "      <td>Dou Mahi</td>\n",
              "      <td>29</td>\n",
              "      <td>351813</td>\n",
              "      <td>0</td>\n",
              "      <td>['Googoosh']</td>\n",
              "      <td>['07L6XZ7QaTsZLP8jwLoFgY']</td>\n",
              "      <td>1990-12-13</td>\n",
              "      <td>0.230</td>\n",
              "      <td>0.269</td>\n",
              "      <td>9</td>\n",
              "      <td>-12.468</td>\n",
              "      <td>0</td>\n",
              "      <td>0.0335</td>\n",
              "      <td>0.969</td>\n",
              "      <td>0.000555</td>\n",
              "      <td>0.1270</td>\n",
              "      <td>0.211</td>\n",
              "      <td>149.389</td>\n",
              "      <td>3</td>\n",
              "    </tr>\n",
              "    <tr>\n",
              "      <th>538764</th>\n",
              "      <td>6jzwYUwyXpJVd1XUQNGyrc</td>\n",
              "      <td>Man Aamadeh-Am</td>\n",
              "      <td>32</td>\n",
              "      <td>278800</td>\n",
              "      <td>0</td>\n",
              "      <td>['Googoosh']</td>\n",
              "      <td>['07L6XZ7QaTsZLP8jwLoFgY']</td>\n",
              "      <td>1992-02-10</td>\n",
              "      <td>0.657</td>\n",
              "      <td>0.389</td>\n",
              "      <td>6</td>\n",
              "      <td>-14.166</td>\n",
              "      <td>0</td>\n",
              "      <td>0.1200</td>\n",
              "      <td>0.786</td>\n",
              "      <td>0.000000</td>\n",
              "      <td>0.2700</td>\n",
              "      <td>0.729</td>\n",
              "      <td>135.243</td>\n",
              "      <td>3</td>\n",
              "    </tr>\n",
              "    <tr>\n",
              "      <th>538948</th>\n",
              "      <td>3m7MznkIFJv9xV3gF0iKAT</td>\n",
              "      <td>Do Panjereh</td>\n",
              "      <td>34</td>\n",
              "      <td>292389</td>\n",
              "      <td>0</td>\n",
              "      <td>['Googoosh']</td>\n",
              "      <td>['07L6XZ7QaTsZLP8jwLoFgY']</td>\n",
              "      <td>1995</td>\n",
              "      <td>0.311</td>\n",
              "      <td>0.330</td>\n",
              "      <td>7</td>\n",
              "      <td>-9.837</td>\n",
              "      <td>0</td>\n",
              "      <td>0.0295</td>\n",
              "      <td>0.665</td>\n",
              "      <td>0.000000</td>\n",
              "      <td>0.0839</td>\n",
              "      <td>0.173</td>\n",
              "      <td>88.107</td>\n",
              "      <td>3</td>\n",
              "    </tr>\n",
              "  </tbody>\n",
              "</table>\n",
              "</div>"
            ],
            "text/plain": [
              "                            id            name  ...    tempo  time_signature\n",
              "235050  5wogkX0KqHJBbXwEDroPOQ             Pol  ...   98.524               4\n",
              "365101  4svcJnKqBZNExCkXC9hM8t        Mano Tou  ...  113.623               5\n",
              "365131  6RnSOAdvpR4rzLU70BgmFd           Kavir  ...   78.111               4\n",
              "366693  6VbjG4GCKlofrkUuTeHaWE  Gharibe Ashena  ...   79.709               4\n",
              "538647  1VaLqJKV7l4holKIgHWknd        Dou Mahi  ...  149.389               3\n",
              "538764  6jzwYUwyXpJVd1XUQNGyrc  Man Aamadeh-Am  ...  135.243               3\n",
              "538948  3m7MznkIFJv9xV3gF0iKAT     Do Panjereh  ...   88.107               3\n",
              "\n",
              "[7 rows x 20 columns]"
            ]
          },
          "metadata": {
            "tags": []
          },
          "execution_count": 0
        }
      ]
    },
    {
      "cell_type": "code",
      "metadata": {
        "colab": {
          "background_save": true
        },
        "id": "VRCNbE1I2nKP",
        "outputId": "688ab90c-7e79-4d98-b178-4a58a29ce5c9"
      },
      "source": [
        "googoosh.groupby(\"popularity\").popularity.count()"
      ],
      "execution_count": null,
      "outputs": [
        {
          "output_type": "execute_result",
          "data": {
            "text/plain": [
              "popularity\n",
              "29    1\n",
              "31    1\n",
              "32    1\n",
              "33    1\n",
              "34    1\n",
              "36    1\n",
              "38    1\n",
              "Name: popularity, dtype: int64"
            ]
          },
          "metadata": {
            "tags": []
          },
          "execution_count": 0
        }
      ]
    },
    {
      "cell_type": "markdown",
      "metadata": {
        "id": "XRseLrMns8Pf"
      },
      "source": [
        "# **date pre-processing**"
      ]
    },
    {
      "cell_type": "code",
      "metadata": {
        "colab": {
          "base_uri": "https://localhost:8080/"
        },
        "id": "M_-2jernQgJj",
        "outputId": "574e9598-116a-4b00-c6f9-14aaafb8a243"
      },
      "source": [
        "tracks.isna().sum(axis=0)"
      ],
      "execution_count": 20,
      "outputs": [
        {
          "output_type": "execute_result",
          "data": {
            "text/plain": [
              "id                   0\n",
              "name                71\n",
              "popularity           0\n",
              "duration_ms          0\n",
              "explicit             0\n",
              "artists              0\n",
              "id_artists           0\n",
              "release_date         0\n",
              "danceability         0\n",
              "energy               0\n",
              "key                  0\n",
              "loudness             0\n",
              "mode                 0\n",
              "speechiness          0\n",
              "acousticness         0\n",
              "instrumentalness     0\n",
              "liveness             0\n",
              "valence              0\n",
              "tempo                0\n",
              "time_signature       0\n",
              "dtype: int64"
            ]
          },
          "metadata": {
            "tags": []
          },
          "execution_count": 20
        }
      ]
    },
    {
      "cell_type": "code",
      "metadata": {
        "id": "oPonbueOxRMj"
      },
      "source": [
        "artists['followers'] = artists['followers'].fillna(0)"
      ],
      "execution_count": null,
      "outputs": []
    },
    {
      "cell_type": "markdown",
      "metadata": {
        "id": "eg2rE15wtuDG"
      },
      "source": [
        "تبدیل تاریخ به سال"
      ]
    },
    {
      "cell_type": "code",
      "metadata": {
        "colab": {
          "background_save": true
        },
        "id": "3BT7FH1oEVVF"
      },
      "source": [
        "#now we need the year of every song as an integer\n",
        "tracks['date']=tracks['release_date'].str.replace(\"-\",\"\")\n",
        "tracks = tracks.astype({\"date\": str})\n",
        "tracks['year']=tracks['date'].str[0:4]\n",
        "\n",
        "tracks = tracks.astype({\"year\": int,'date': int})\n",
        "tracks=tracks.drop(['release_date','date'],axis=1)"
      ],
      "execution_count": null,
      "outputs": []
    },
    {
      "cell_type": "markdown",
      "metadata": {
        "id": "BNwieR3eRaKG"
      },
      "source": [
        "شناسایی و حذف داده‌ های تکراری"
      ]
    },
    {
      "cell_type": "code",
      "metadata": {
        "colab": {
          "base_uri": "https://localhost:8080/"
        },
        "id": "At3F9fgJRfDf",
        "outputId": "ad0dc467-fed7-408b-9e73-7aae20e163ff"
      },
      "source": [
        "duplicate=tracks.drop(['id','name','artists','id_artists'],axis=1)\n",
        "duplicate.duplicated().sum()"
      ],
      "execution_count": 23,
      "outputs": [
        {
          "output_type": "execute_result",
          "data": {
            "text/plain": [
              "1621"
            ]
          },
          "metadata": {
            "tags": []
          },
          "execution_count": 23
        }
      ]
    },
    {
      "cell_type": "markdown",
      "metadata": {
        "id": "_KwNwXpqTTqF"
      },
      "source": [
        "# **feature engineering**"
      ]
    },
    {
      "cell_type": "markdown",
      "metadata": {
        "id": "mlHSlKkYQ2CO"
      },
      "source": [
        "استخراج میانگین محبوبیت و میانگین فالوور خوانندگان هر ترک"
      ]
    },
    {
      "cell_type": "code",
      "metadata": {
        "id": "L2qJxOC2xpd1"
      },
      "source": [
        "ss=0\n",
        "#now we set values to the right numbers\n",
        "for i in range(586672):\n",
        "  ss=i\n",
        "  mean_pop=0\n",
        "  mean_fol=0\n",
        "  ids=tracks.loc[i,'id_artists']#get artist's id and then break them\n",
        "  ids_string=ids[1:-1]\n",
        "  ids_list=ids_string.split(\", \")#turning to list\n",
        "\n",
        "  for s in ids_list:\n",
        "    jj=s[1:-1]\n",
        "    target=artists.loc[artists.id==jj]#get matching artist for this id\n",
        "    xx, yy=target.shape\n",
        "    if(xx>0):\n",
        "      mean_pop=mean_pop+target.iloc[0,4]\n",
        "      mean_fol=mean_fol+target.iloc[0,1]\n",
        "\n",
        "  mean_pop=mean_pop/len(ids_list)#calculate mean_popularity and mean_follower\n",
        "  mean_fol=mean_fol/len(ids_list)\n",
        "\n",
        "  tracks.loc[i,'artists_mean_popularity']=mean_pop\n",
        "  tracks.loc[i,'artists_mean_followers']=mean_fol#set the value to tracks data frame"
      ],
      "execution_count": null,
      "outputs": []
    },
    {
      "cell_type": "markdown",
      "metadata": {
        "id": "VBrGZxd9tmvh"
      },
      "source": [
        "اضافه کردن 13 ویژگی مربوط به سال انتشار آهنگ"
      ]
    },
    {
      "cell_type": "code",
      "metadata": {
        "id": "JxNOmJ908gsQ"
      },
      "source": [
        "dby=pd.read_csv('/content/drive/MyDrive/DM-Project/archive.zip (Unzipped Files)/data_by_year_o.csv')"
      ],
      "execution_count": null,
      "outputs": []
    },
    {
      "cell_type": "code",
      "metadata": {
        "id": "lr9eP3-l8vrm"
      },
      "source": [
        "ss=0\n",
        "#now we set values to the right numbers\n",
        "for i in range(586672):\n",
        "  ss=i\n",
        "  year=int(tracks.loc[i,'year'])\n",
        "  target=dby.loc[dby.year==year]\n",
        "  xx, yy=target.shape\n",
        "  if(xx>0):\n",
        "    tracks.loc[i,'year_mode']=float(target['mode'])\n",
        "    tracks.loc[i,'year_acousticness']=float(target['acousticness'])\n",
        "    tracks.loc[i,'year_danceability']=float(target['danceability'])\n",
        "    tracks.loc[i,'year_duration_ms']=float(target['duration_ms'])\n",
        "    tracks.loc[i,'year_energy']=float(target['energy'])\n",
        "    tracks.loc[i,'year_instrumentalness']=float(target['instrumentalness'])\n",
        "    tracks.loc[i,'year_liveness']=float(target['liveness'])\n",
        "    tracks.loc[i,'year_loudness']=float(target['loudness'])\n",
        "    tracks.loc[i,'year_speechiness']=float(target['speechiness'])\n",
        "    tracks.loc[i,'year_tempo']=float(target['tempo'])\n",
        "    tracks.loc[i,'year_valence']=float(target['valence'])\n",
        "    tracks.loc[i,'year_popularity']=float(target['popularity'])\n",
        "    tracks.loc[i,'year_key']=float(target['key'])\n"
      ],
      "execution_count": null,
      "outputs": []
    },
    {
      "cell_type": "markdown",
      "metadata": {
        "id": "iBB_F2QsUl3E"
      },
      "source": [
        "اضافه نمودن مقایر دسته بندی "
      ]
    },
    {
      "cell_type": "code",
      "metadata": {
        "id": "Ko3pjeYXCa2I"
      },
      "source": [
        "tracks3.loc[tracks3['popularity']<26,\"clf_pop\"]=1\n",
        "tracks3.loc[(tracks3['popularity']>25) & (tracks3['popularity']<51),'clf_pop']=2\n",
        "tracks3.loc[(tracks3['popularity']>50) & (tracks3['popularity']<76),'clf_pop']=3\n",
        "tracks3.loc[(tracks3['popularity']>75) & (tracks3['popularity']<101),'clf_pop']=4"
      ],
      "execution_count": null,
      "outputs": []
    },
    {
      "cell_type": "markdown",
      "metadata": {
        "id": "GsTPpm6ZUBgx"
      },
      "source": [
        "حذف ویژگی های زائد"
      ]
    },
    {
      "cell_type": "code",
      "metadata": {
        "id": "2fOHuneF_5Fg"
      },
      "source": [
        "tracks=tracks.drop(['Unnamed: 0','id','name','artists','id_artists'],axis=1)"
      ],
      "execution_count": null,
      "outputs": []
    },
    {
      "cell_type": "markdown",
      "metadata": {
        "id": "KBJgr63FUKkY"
      },
      "source": [
        "اصلاح مقادیر مفقود"
      ]
    },
    {
      "cell_type": "code",
      "metadata": {
        "id": "bZtWcBA8A06_"
      },
      "source": [
        "tracks=tracks.dropna()"
      ],
      "execution_count": null,
      "outputs": []
    },
    {
      "cell_type": "markdown",
      "metadata": {
        "id": "77WFNyYHUybx"
      },
      "source": [
        "حذف داده های تکراری"
      ]
    },
    {
      "cell_type": "code",
      "metadata": {
        "id": "t8dTU_YeUxdM"
      },
      "source": [
        "tracks = tracks.drop_duplicates()"
      ],
      "execution_count": null,
      "outputs": []
    },
    {
      "cell_type": "markdown",
      "metadata": {
        "id": "coCankRsU_-p"
      },
      "source": [
        "استاندارد سازی داده ها"
      ]
    },
    {
      "cell_type": "code",
      "metadata": {
        "id": "vhUI574BG7hV"
      },
      "source": [
        "cols=tracks.columns"
      ],
      "execution_count": null,
      "outputs": []
    },
    {
      "cell_type": "code",
      "metadata": {
        "colab": {
          "base_uri": "https://localhost:8080/"
        },
        "id": "g6M7UsKEHMOo",
        "outputId": "47db4814-8958-46a7-b287-3a982c4b5a6e"
      },
      "source": [
        "cols"
      ],
      "execution_count": null,
      "outputs": [
        {
          "output_type": "execute_result",
          "data": {
            "text/plain": [
              "Index(['popularity', 'duration_ms', 'explicit', 'danceability', 'energy',\n",
              "       'key', 'loudness', 'mode', 'speechiness', 'acousticness',\n",
              "       'instrumentalness', 'liveness', 'valence', 'tempo', 'time_signature',\n",
              "       'artists_mean_popularity', 'artists_mean_followers', 'year',\n",
              "       'year_mode', 'year_acousticness', 'year_danceability',\n",
              "       'year_duration_ms', 'year_energy', 'year_instrumentalness',\n",
              "       'year_liveness', 'year_loudness', 'year_speechiness', 'year_tempo',\n",
              "       'year_valence', 'year_key', 'year_popularity', 'clf_pop'],\n",
              "      dtype='object')"
            ]
          },
          "metadata": {
            "tags": []
          },
          "execution_count": 65
        }
      ]
    },
    {
      "cell_type": "code",
      "metadata": {
        "colab": {
          "base_uri": "https://localhost:8080/"
        },
        "id": "YoOw6LSWHJVT",
        "outputId": "7130986b-adda-4bfe-ddd6-14100a41aa28"
      },
      "source": [
        "from scipy.stats import zscore\n",
        "import pandas as pd\n",
        "for s in cols:\n",
        "  if s!='clf_pop':\n",
        "    tracks[s]=zscore(tracks[s])"
      ],
      "execution_count": null,
      "outputs": [
        {
          "output_type": "stream",
          "text": [
            "/usr/local/lib/python3.7/dist-packages/scipy/stats/stats.py:2419: RuntimeWarning: invalid value encountered in true_divide\n",
            "  return (a - mns) / sstd\n"
          ],
          "name": "stderr"
        }
      ]
    },
    {
      "cell_type": "code",
      "metadata": {
        "colab": {
          "base_uri": "https://localhost:8080/",
          "height": 222
        },
        "id": "mdTg8Sk3Hf-A",
        "outputId": "2c5e123f-df27-44c3-cd0a-8338147fec1a"
      },
      "source": [
        "tracks.head()"
      ],
      "execution_count": null,
      "outputs": [
        {
          "output_type": "execute_result",
          "data": {
            "text/html": [
              "<div>\n",
              "<style scoped>\n",
              "    .dataframe tbody tr th:only-of-type {\n",
              "        vertical-align: middle;\n",
              "    }\n",
              "\n",
              "    .dataframe tbody tr th {\n",
              "        vertical-align: top;\n",
              "    }\n",
              "\n",
              "    .dataframe thead th {\n",
              "        text-align: right;\n",
              "    }\n",
              "</style>\n",
              "<table border=\"1\" class=\"dataframe\">\n",
              "  <thead>\n",
              "    <tr style=\"text-align: right;\">\n",
              "      <th></th>\n",
              "      <th>popularity</th>\n",
              "      <th>duration_ms</th>\n",
              "      <th>explicit</th>\n",
              "      <th>danceability</th>\n",
              "      <th>energy</th>\n",
              "      <th>key</th>\n",
              "      <th>loudness</th>\n",
              "      <th>mode</th>\n",
              "      <th>speechiness</th>\n",
              "      <th>acousticness</th>\n",
              "      <th>instrumentalness</th>\n",
              "      <th>liveness</th>\n",
              "      <th>valence</th>\n",
              "      <th>tempo</th>\n",
              "      <th>time_signature</th>\n",
              "      <th>artists_mean_popularity</th>\n",
              "      <th>artists_mean_followers</th>\n",
              "      <th>year</th>\n",
              "      <th>year_mode</th>\n",
              "      <th>year_acousticness</th>\n",
              "      <th>year_danceability</th>\n",
              "      <th>year_duration_ms</th>\n",
              "      <th>year_energy</th>\n",
              "      <th>year_instrumentalness</th>\n",
              "      <th>year_liveness</th>\n",
              "      <th>year_loudness</th>\n",
              "      <th>year_speechiness</th>\n",
              "      <th>year_tempo</th>\n",
              "      <th>year_valence</th>\n",
              "      <th>year_key</th>\n",
              "      <th>year_popularity</th>\n",
              "      <th>clf_pop</th>\n",
              "    </tr>\n",
              "  </thead>\n",
              "  <tbody>\n",
              "    <tr>\n",
              "      <th>0</th>\n",
              "      <td>-1.179745</td>\n",
              "      <td>-0.815721</td>\n",
              "      <td>-0.208713</td>\n",
              "      <td>0.497982</td>\n",
              "      <td>-0.381539</td>\n",
              "      <td>-1.483918</td>\n",
              "      <td>-0.610804</td>\n",
              "      <td>0.717279</td>\n",
              "      <td>1.920918</td>\n",
              "      <td>0.636944</td>\n",
              "      <td>2.365371</td>\n",
              "      <td>-0.343116</td>\n",
              "      <td>-1.651660</td>\n",
              "      <td>-0.456752</td>\n",
              "      <td>-1.840565</td>\n",
              "      <td>-2.165095</td>\n",
              "      <td>-0.279906</td>\n",
              "      <td>-2.916698</td>\n",
              "      <td>NaN</td>\n",
              "      <td>2.640769</td>\n",
              "      <td>-1.521381</td>\n",
              "      <td>-3.524169</td>\n",
              "      <td>-2.504441</td>\n",
              "      <td>3.965804</td>\n",
              "      <td>2.746404</td>\n",
              "      <td>-3.454379</td>\n",
              "      <td>0.667955</td>\n",
              "      <td>-4.409033</td>\n",
              "      <td>0.156266</td>\n",
              "      <td>1.807808</td>\n",
              "      <td>-2.456938</td>\n",
              "      <td>1.0</td>\n",
              "    </tr>\n",
              "    <tr>\n",
              "      <th>1</th>\n",
              "      <td>-1.509166</td>\n",
              "      <td>-1.041945</td>\n",
              "      <td>-0.208713</td>\n",
              "      <td>0.799518</td>\n",
              "      <td>-1.103268</td>\n",
              "      <td>-1.483918</td>\n",
              "      <td>-2.340429</td>\n",
              "      <td>0.717279</td>\n",
              "      <td>4.726774</td>\n",
              "      <td>0.989394</td>\n",
              "      <td>-0.425302</td>\n",
              "      <td>-0.359357</td>\n",
              "      <td>0.396476</td>\n",
              "      <td>-0.552277</td>\n",
              "      <td>-6.058993</td>\n",
              "      <td>-2.359784</td>\n",
              "      <td>-0.279931</td>\n",
              "      <td>-2.916698</td>\n",
              "      <td>NaN</td>\n",
              "      <td>2.640769</td>\n",
              "      <td>-1.521381</td>\n",
              "      <td>-3.524169</td>\n",
              "      <td>-2.504441</td>\n",
              "      <td>3.965804</td>\n",
              "      <td>2.746404</td>\n",
              "      <td>-3.454379</td>\n",
              "      <td>0.667955</td>\n",
              "      <td>-4.409033</td>\n",
              "      <td>0.156266</td>\n",
              "      <td>1.807808</td>\n",
              "      <td>-2.456938</td>\n",
              "      <td>1.0</td>\n",
              "    </tr>\n",
              "    <tr>\n",
              "      <th>2</th>\n",
              "      <td>-1.509166</td>\n",
              "      <td>-0.384310</td>\n",
              "      <td>-0.208713</td>\n",
              "      <td>-0.774497</td>\n",
              "      <td>-1.444305</td>\n",
              "      <td>-1.199702</td>\n",
              "      <td>-2.152486</td>\n",
              "      <td>0.717279</td>\n",
              "      <td>-0.296041</td>\n",
              "      <td>1.553888</td>\n",
              "      <td>-0.343532</td>\n",
              "      <td>-0.012899</td>\n",
              "      <td>-0.371575</td>\n",
              "      <td>0.402604</td>\n",
              "      <td>2.377864</td>\n",
              "      <td>-1.240321</td>\n",
              "      <td>-0.278908</td>\n",
              "      <td>-2.916698</td>\n",
              "      <td>NaN</td>\n",
              "      <td>2.640769</td>\n",
              "      <td>-1.521381</td>\n",
              "      <td>-3.524169</td>\n",
              "      <td>-2.504441</td>\n",
              "      <td>3.965804</td>\n",
              "      <td>2.746404</td>\n",
              "      <td>-3.454379</td>\n",
              "      <td>0.667955</td>\n",
              "      <td>-4.409033</td>\n",
              "      <td>0.156266</td>\n",
              "      <td>1.807808</td>\n",
              "      <td>-2.456938</td>\n",
              "      <td>1.0</td>\n",
              "    </tr>\n",
              "    <tr>\n",
              "      <th>3</th>\n",
              "      <td>-1.509166</td>\n",
              "      <td>-0.421613</td>\n",
              "      <td>-0.208713</td>\n",
              "      <td>-1.455967</td>\n",
              "      <td>-1.771066</td>\n",
              "      <td>0.505595</td>\n",
              "      <td>-3.485583</td>\n",
              "      <td>0.717279</td>\n",
              "      <td>-0.300477</td>\n",
              "      <td>1.556754</td>\n",
              "      <td>3.018028</td>\n",
              "      <td>-0.597546</td>\n",
              "      <td>-0.604318</td>\n",
              "      <td>1.732359</td>\n",
              "      <td>-1.840565</td>\n",
              "      <td>-1.240321</td>\n",
              "      <td>-0.278908</td>\n",
              "      <td>-2.916698</td>\n",
              "      <td>NaN</td>\n",
              "      <td>2.640769</td>\n",
              "      <td>-1.521381</td>\n",
              "      <td>-3.524169</td>\n",
              "      <td>-2.504441</td>\n",
              "      <td>3.965804</td>\n",
              "      <td>2.746404</td>\n",
              "      <td>-3.454379</td>\n",
              "      <td>0.667955</td>\n",
              "      <td>-4.409033</td>\n",
              "      <td>0.156266</td>\n",
              "      <td>1.807808</td>\n",
              "      <td>-2.456938</td>\n",
              "      <td>1.0</td>\n",
              "    </tr>\n",
              "    <tr>\n",
              "      <th>4</th>\n",
              "      <td>-1.509166</td>\n",
              "      <td>-0.530591</td>\n",
              "      <td>-0.208713</td>\n",
              "      <td>-0.967480</td>\n",
              "      <td>-1.519651</td>\n",
              "      <td>-0.631269</td>\n",
              "      <td>-1.311068</td>\n",
              "      <td>-1.394158</td>\n",
              "      <td>-0.363692</td>\n",
              "      <td>1.539561</td>\n",
              "      <td>0.062316</td>\n",
              "      <td>0.523028</td>\n",
              "      <td>-1.384006</td>\n",
              "      <td>-0.511573</td>\n",
              "      <td>0.268650</td>\n",
              "      <td>-0.656253</td>\n",
              "      <td>-0.276643</td>\n",
              "      <td>-2.916698</td>\n",
              "      <td>NaN</td>\n",
              "      <td>2.640769</td>\n",
              "      <td>-1.521381</td>\n",
              "      <td>-3.524169</td>\n",
              "      <td>-2.504441</td>\n",
              "      <td>3.965804</td>\n",
              "      <td>2.746404</td>\n",
              "      <td>-3.454379</td>\n",
              "      <td>0.667955</td>\n",
              "      <td>-4.409033</td>\n",
              "      <td>0.156266</td>\n",
              "      <td>1.807808</td>\n",
              "      <td>-2.456938</td>\n",
              "      <td>1.0</td>\n",
              "    </tr>\n",
              "  </tbody>\n",
              "</table>\n",
              "</div>"
            ],
            "text/plain": [
              "   popularity  duration_ms  explicit  ...  year_key  year_popularity  clf_pop\n",
              "0   -1.179745    -0.815721 -0.208713  ...  1.807808        -2.456938      1.0\n",
              "1   -1.509166    -1.041945 -0.208713  ...  1.807808        -2.456938      1.0\n",
              "2   -1.509166    -0.384310 -0.208713  ...  1.807808        -2.456938      1.0\n",
              "3   -1.509166    -0.421613 -0.208713  ...  1.807808        -2.456938      1.0\n",
              "4   -1.509166    -0.530591 -0.208713  ...  1.807808        -2.456938      1.0\n",
              "\n",
              "[5 rows x 32 columns]"
            ]
          },
          "metadata": {
            "tags": []
          },
          "execution_count": 68
        }
      ]
    },
    {
      "cell_type": "code",
      "metadata": {
        "colab": {
          "base_uri": "https://localhost:8080/"
        },
        "id": "yWbydmNMHkZo",
        "outputId": "b868dc01-22b6-41f3-ba3b-fdaee678f957"
      },
      "source": [
        "tracks.shape"
      ],
      "execution_count": null,
      "outputs": [
        {
          "output_type": "execute_result",
          "data": {
            "text/plain": [
              "(580390, 32)"
            ]
          },
          "metadata": {
            "tags": []
          },
          "execution_count": 69
        }
      ]
    },
    {
      "cell_type": "code",
      "metadata": {
        "id": "RM8IVrdOInVD"
      },
      "source": [
        "tracks=tracks.drop(['year_mode'],axis=1)"
      ],
      "execution_count": null,
      "outputs": []
    },
    {
      "cell_type": "code",
      "metadata": {
        "colab": {
          "base_uri": "https://localhost:8080/"
        },
        "id": "Ew1g6mUXJDZS",
        "outputId": "19901aac-5c97-475a-d1d6-893a867a4ccb"
      },
      "source": [
        "tracks.isna().sum(axis=0)"
      ],
      "execution_count": null,
      "outputs": [
        {
          "output_type": "execute_result",
          "data": {
            "text/plain": [
              "popularity                 0\n",
              "duration_ms                0\n",
              "explicit                   0\n",
              "danceability               0\n",
              "energy                     0\n",
              "key                        0\n",
              "loudness                   0\n",
              "mode                       0\n",
              "speechiness                0\n",
              "acousticness               0\n",
              "instrumentalness           0\n",
              "liveness                   0\n",
              "valence                    0\n",
              "tempo                      0\n",
              "time_signature             0\n",
              "artists_mean_popularity    0\n",
              "artists_mean_followers     0\n",
              "year                       0\n",
              "year_acousticness          0\n",
              "year_danceability          0\n",
              "year_duration_ms           0\n",
              "year_energy                0\n",
              "year_instrumentalness      0\n",
              "year_liveness              0\n",
              "year_loudness              0\n",
              "year_speechiness           0\n",
              "year_tempo                 0\n",
              "year_valence               0\n",
              "year_key                   0\n",
              "year_popularity            0\n",
              "clf_pop                    0\n",
              "dtype: int64"
            ]
          },
          "metadata": {
            "tags": []
          },
          "execution_count": 72
        }
      ]
    },
    {
      "cell_type": "markdown",
      "metadata": {
        "id": "QBTK2G4IVoPO"
      },
      "source": [
        "حذف نمودن داده های پرت"
      ]
    },
    {
      "cell_type": "code",
      "metadata": {
        "id": "plhrvDBKHjco"
      },
      "source": [
        "tracks=tracks.loc[(tracks['popularity']<3) & (tracks['popularity']>-3) &\n",
        "            (tracks['duration_ms']<3) & (tracks['duration_ms']>-3) &\n",
        "            (tracks['explicit']<3) & (tracks['explicit']>-3) &\n",
        "            (tracks['danceability']<3) & (tracks['danceability']>-3) &\n",
        "            (tracks['energy']<3) & (tracks['energy']>-3) &\n",
        "            (tracks['key']<3) & (tracks['key']>-3) &\n",
        "            (tracks['loudness']<3) & (tracks['loudness']>-3) &\n",
        "            (tracks['mode']<3) & (tracks['mode']>-3) &\n",
        "            (tracks['speechiness']<3) & (tracks['speechiness']>-3) &\n",
        "            (tracks['acousticness']<3) & (tracks['acousticness']>-3) &\n",
        "            (tracks['instrumentalness']<3) & (tracks['instrumentalness']>-3) &\n",
        "            (tracks['liveness']<3) & (tracks['liveness']>-3) &\n",
        "            (tracks['valence']<3) & (tracks['valence']>-3) &\n",
        "            (tracks['tempo']<3) & (tracks['tempo']>-3) &\n",
        "            (tracks['time_signature']<3) & (tracks['time_signature']>-3) &\n",
        "            (tracks['artists_mean_popularity']<3) & (tracks['artists_mean_popularity']>-3) &\n",
        "            (tracks['artists_mean_followers']<3) & (tracks['artists_mean_followers']>-3) &\n",
        "            (tracks['year']<3) & (tracks['year']>-3) &\n",
        "            (tracks['year_acousticness']<3) & (tracks['year_acousticness']>-3) &\n",
        "            (tracks['year_danceability']<3) & (tracks['year_danceability']>-3) &\n",
        "            (tracks['year_duration_ms']<3) & (tracks['year_duration_ms']>-3) &\n",
        "            (tracks['year_energy']<3) & (tracks['year_energy']>-3) &\n",
        "            (tracks['year_instrumentalness']<3) & (tracks['year_instrumentalness']>-3) &\n",
        "            (tracks['year_liveness']<3) & (tracks['year_liveness']>-3) &\n",
        "            (tracks['year_loudness']<3) & (tracks['year_loudness']>-3) &\n",
        "            (tracks['year_speechiness']<3) & (tracks['year_speechiness']>-3) &\n",
        "            (tracks['year_tempo']<3) & (tracks['year_tempo']>-3) &\n",
        "            (tracks['year_valence']<3) & (tracks['year_valence']>-3) &\n",
        "            (tracks['year_key']<3) & (tracks['year_key']>-3) &\n",
        "            (tracks['year_popularity']<3) & (tracks['year_popularity']>-3) ]"
      ],
      "execution_count": null,
      "outputs": []
    },
    {
      "cell_type": "markdown",
      "metadata": {
        "id": "LqyAddf_Wc5j"
      },
      "source": [
        "ارزش هر ویژگی"
      ]
    },
    {
      "cell_type": "code",
      "metadata": {
        "id": "JChLu51-WcLu"
      },
      "source": [
        "y=tracks['clf_pop']\n",
        "x=tracks.drop(['popularity','clf_pop','Unnamed: 0'],axis=1)\n"
      ],
      "execution_count": null,
      "outputs": []
    },
    {
      "cell_type": "code",
      "metadata": {
        "id": "XbbaqqshK8_o"
      },
      "source": [
        "import numpy as np\n",
        "from sklearn.ensemble import BaggingClassifier\n",
        "from sklearn.tree import DecisionTreeClassifier\n",
        "\n",
        "\n",
        "\n",
        "clf = BaggingClassifier(DecisionTreeClassifier())\n",
        "clf.fit(x, y)\n",
        "\n",
        "feature_importances = np.mean([\n",
        "    tree.feature_importances_ for tree in clf.estimators_\n",
        "], axis=0)"
      ],
      "execution_count": null,
      "outputs": []
    },
    {
      "cell_type": "code",
      "metadata": {
        "id": "gMULmn7eQTaT"
      },
      "source": [
        "cols=x.columns"
      ],
      "execution_count": null,
      "outputs": []
    },
    {
      "cell_type": "code",
      "metadata": {
        "id": "njZS3sh1Q_Hm"
      },
      "source": [
        "importance={}\n",
        "for i in range(29):\n",
        "  importance[cols[i]]=feature_importances[i]\n"
      ],
      "execution_count": null,
      "outputs": []
    },
    {
      "cell_type": "code",
      "metadata": {
        "colab": {
          "base_uri": "https://localhost:8080/"
        },
        "id": "0o-pAooxkHWc",
        "outputId": "d5c2e0f6-dc0c-47a4-ba1d-d7d33e34f5eb"
      },
      "source": [
        "importance"
      ],
      "execution_count": null,
      "outputs": [
        {
          "output_type": "execute_result",
          "data": {
            "text/plain": [
              "{'acousticness': 0.05643029173337085,\n",
              " 'artists_mean_followers': 0.0659138426524861,\n",
              " 'artists_mean_popularity': 0.15318866992265728,\n",
              " 'danceability': 0.04917504877687294,\n",
              " 'duration_ms': 0.05785270100188596,\n",
              " 'energy': 0.04508978603297316,\n",
              " 'explicit': 0.0,\n",
              " 'instrumentalness': 0.042526837913919466,\n",
              " 'key': 0.023502208940179556,\n",
              " 'liveness': 0.049396780384019214,\n",
              " 'loudness': 0.049701759200340874,\n",
              " 'mode': 0.00482410587697561,\n",
              " 'speechiness': 0.050101480061893834,\n",
              " 'tempo': 0.05013445805188514,\n",
              " 'time_signature': 0.0037055749858749044,\n",
              " 'valence': 0.04756058835341494,\n",
              " 'year': 0.07144771708122573,\n",
              " 'year_acousticness': 0.01237697809606221,\n",
              " 'year_danceability': 0.010452515580700006,\n",
              " 'year_duration_ms': 0.01664569772086888,\n",
              " 'year_energy': 0.011762614324775019,\n",
              " 'year_instrumentalness': 0.007458049962176127,\n",
              " 'year_key': 0.002038131158388115,\n",
              " 'year_liveness': 0.007331761026409467,\n",
              " 'year_loudness': 0.005974564523376572,\n",
              " 'year_popularity': 0.08441646733708845,\n",
              " 'year_speechiness': 0.007203658148426847,\n",
              " 'year_tempo': 0.005904150256001206,\n",
              " 'year_valence': 0.007883560895751568}"
            ]
          },
          "metadata": {
            "tags": []
          },
          "execution_count": 30
        }
      ]
    },
    {
      "cell_type": "code",
      "metadata": {
        "id": "cvdD-tdGRbif"
      },
      "source": [
        "sort_importance = sorted(importance.items(), key=lambda x: x[1], reverse=True)"
      ],
      "execution_count": null,
      "outputs": []
    },
    {
      "cell_type": "code",
      "metadata": {
        "colab": {
          "base_uri": "https://localhost:8080/"
        },
        "id": "ELXb0auGkQZI",
        "outputId": "45c0dea6-59da-4280-9530-69c35935c1e8"
      },
      "source": [
        "sort_importance"
      ],
      "execution_count": null,
      "outputs": [
        {
          "output_type": "execute_result",
          "data": {
            "text/plain": [
              "[('artists_mean_popularity', 0.15318866992265728),\n",
              " ('year_popularity', 0.08441646733708845),\n",
              " ('year', 0.07144771708122573),\n",
              " ('artists_mean_followers', 0.0659138426524861),\n",
              " ('duration_ms', 0.05785270100188596),\n",
              " ('acousticness', 0.05643029173337085),\n",
              " ('tempo', 0.05013445805188514),\n",
              " ('speechiness', 0.050101480061893834),\n",
              " ('loudness', 0.049701759200340874),\n",
              " ('liveness', 0.049396780384019214),\n",
              " ('danceability', 0.04917504877687294),\n",
              " ('valence', 0.04756058835341494),\n",
              " ('energy', 0.04508978603297316),\n",
              " ('instrumentalness', 0.042526837913919466),\n",
              " ('key', 0.023502208940179556),\n",
              " ('year_duration_ms', 0.01664569772086888),\n",
              " ('year_acousticness', 0.01237697809606221),\n",
              " ('year_energy', 0.011762614324775019),\n",
              " ('year_danceability', 0.010452515580700006),\n",
              " ('year_valence', 0.007883560895751568),\n",
              " ('year_instrumentalness', 0.007458049962176127),\n",
              " ('year_liveness', 0.007331761026409467),\n",
              " ('year_speechiness', 0.007203658148426847),\n",
              " ('year_loudness', 0.005974564523376572),\n",
              " ('year_tempo', 0.005904150256001206),\n",
              " ('mode', 0.00482410587697561),\n",
              " ('time_signature', 0.0037055749858749044),\n",
              " ('year_key', 0.002038131158388115),\n",
              " ('explicit', 0.0)]"
            ]
          },
          "metadata": {
            "tags": []
          },
          "execution_count": 32
        }
      ]
    },
    {
      "cell_type": "code",
      "metadata": {
        "colab": {
          "base_uri": "https://localhost:8080/",
          "height": 97
        },
        "id": "pjYfYPjQSQ3N",
        "outputId": "7a43955d-11d2-40f2-ad5f-4d0571062bdc"
      },
      "source": [
        "import numpy as np\n",
        "import matplotlib.pyplot as plt\n",
        "plt.figure(figsize=(100,6))\n",
        "\n",
        "x, y = zip(*sort_importance)\n",
        "plt.bar(x, y)\n",
        "plt.show()"
      ],
      "execution_count": null,
      "outputs": [
        {
          "output_type": "display_data",
          "data": {
            "image/png": "[encoded data removed]",
            "text/plain": [
              "<Figure size 7200x432 with 1 Axes>"
            ]
          },
          "metadata": {
            "tags": [],
            "needs_background": "light"
          }
        }
      ]
    },
    {
      "cell_type": "code",
      "metadata": {
        "id": "1_ZENjPrWASY"
      },
      "source": [
        "tracks1=tracks.drop(['clf_pop','Unnamed: 0'],axis=1)"
      ],
      "execution_count": null,
      "outputs": []
    },
    {
      "cell_type": "code",
      "metadata": {
        "id": "tLkE3awfWMyh"
      },
      "source": [
        "corelation=tracks1.corr()['popularity']"
      ],
      "execution_count": null,
      "outputs": []
    },
    {
      "cell_type": "code",
      "metadata": {
        "colab": {
          "base_uri": "https://localhost:8080/"
        },
        "id": "iTiYZSxUWYgQ",
        "outputId": "65817cf6-f2c6-4011-92d1-f3fbea958c38"
      },
      "source": [
        "corelation"
      ],
      "execution_count": null,
      "outputs": [
        {
          "output_type": "execute_result",
          "data": {
            "text/plain": [
              "popularity                 1.000000e+00\n",
              "duration_ms                1.005981e-01\n",
              "explicit                   1.436978e-13\n",
              "danceability               1.667925e-01\n",
              "energy                     2.507709e-01\n",
              "key                        1.676464e-02\n",
              "loudness                   2.948479e-01\n",
              "mode                      -1.586573e-02\n",
              "speechiness                6.580582e-03\n",
              "acousticness              -3.103064e-01\n",
              "instrumentalness          -1.807765e-01\n",
              "liveness                  -6.202065e-02\n",
              "valence                    4.595697e-04\n",
              "tempo                      5.521036e-02\n",
              "time_signature             7.422275e-02\n",
              "artists_mean_popularity    5.210972e-01\n",
              "artists_mean_followers     3.013995e-01\n",
              "year                       5.301389e-01\n",
              "year_acousticness         -4.866636e-01\n",
              "year_danceability          4.600600e-01\n",
              "year_duration_ms           5.224478e-02\n",
              "year_energy                4.909721e-01\n",
              "year_instrumentalness     -4.852811e-01\n",
              "year_liveness             -3.618694e-01\n",
              "year_loudness              5.174802e-01\n",
              "year_speechiness           1.770361e-01\n",
              "year_tempo                 4.194020e-01\n",
              "year_valence              -1.687950e-01\n",
              "year_key                   4.191245e-02\n",
              "year_popularity            5.406300e-01\n",
              "Name: popularity, dtype: float64"
            ]
          },
          "metadata": {
            "tags": []
          },
          "execution_count": 51
        }
      ]
    },
    {
      "cell_type": "code",
      "metadata": {
        "colab": {
          "base_uri": "https://localhost:8080/"
        },
        "id": "e_rcM3qNWgYH",
        "outputId": "80417039-9751-437e-d433-c2bb0b9661cf"
      },
      "source": [
        "corelation.sort_values(ascending=False)"
      ],
      "execution_count": null,
      "outputs": [
        {
          "output_type": "execute_result",
          "data": {
            "text/plain": [
              "popularity                 1.000000e+00\n",
              "year_popularity            5.406300e-01\n",
              "year                       5.301389e-01\n",
              "artists_mean_popularity    5.210972e-01\n",
              "year_loudness              5.174802e-01\n",
              "year_energy                4.909721e-01\n",
              "year_danceability          4.600600e-01\n",
              "year_tempo                 4.194020e-01\n",
              "artists_mean_followers     3.013995e-01\n",
              "loudness                   2.948479e-01\n",
              "energy                     2.507709e-01\n",
              "year_speechiness           1.770361e-01\n",
              "danceability               1.667925e-01\n",
              "duration_ms                1.005981e-01\n",
              "time_signature             7.422275e-02\n",
              "tempo                      5.521036e-02\n",
              "year_duration_ms           5.224478e-02\n",
              "year_key                   4.191245e-02\n",
              "key                        1.676464e-02\n",
              "speechiness                6.580582e-03\n",
              "valence                    4.595697e-04\n",
              "explicit                   1.436978e-13\n",
              "mode                      -1.586573e-02\n",
              "liveness                  -6.202065e-02\n",
              "year_valence              -1.687950e-01\n",
              "instrumentalness          -1.807765e-01\n",
              "acousticness              -3.103064e-01\n",
              "year_liveness             -3.618694e-01\n",
              "year_instrumentalness     -4.852811e-01\n",
              "year_acousticness         -4.866636e-01\n",
              "Name: popularity, dtype: float64"
            ]
          },
          "metadata": {
            "tags": []
          },
          "execution_count": 54
        }
      ]
    },
    {
      "cell_type": "markdown",
      "metadata": {
        "id": "jwgEZvwnXwEZ"
      },
      "source": [
        "# **Prediction Models**"
      ]
    },
    {
      "cell_type": "code",
      "metadata": {
        "id": "SI9FJ3JsOhN7"
      },
      "source": [
        "from sklearn.metrics import mean_absolute_error\n",
        "from sklearn.metrics import r2_score\n",
        "from statistics import mean \n",
        "from sklearn.model_selection import train_test_split"
      ],
      "execution_count": null,
      "outputs": []
    },
    {
      "cell_type": "code",
      "metadata": {
        "id": "uMzRPlGMORyj"
      },
      "source": [
        "y=tracks['popularity']\n",
        "x=tracks.drop(['popularity','clf_pop'],axis=1)"
      ],
      "execution_count": null,
      "outputs": []
    },
    {
      "cell_type": "code",
      "metadata": {
        "colab": {
          "base_uri": "https://localhost:8080/"
        },
        "id": "rtTOw83dOsLU",
        "outputId": "d86ccde0-a208-48ee-e609-1f1ce7d68fdc"
      },
      "source": [
        "from sklearn.linear_model import LinearRegression\n",
        "\n",
        "mae = []\n",
        "r2 = []\n",
        "\n",
        "for i in range(100):\n",
        "    x_train, x_test, y_train, y_test = train_test_split(x, y, test_size=0.33)\n",
        "\n",
        "    reg = LinearRegression().fit(x_train, y_train)\n",
        "    y_pred = reg.predict(x_test)\n",
        "\n",
        "\n",
        "    mae.append(mean_absolute_error(y_test,y_pred))\n",
        "    r2.append(r2_score(y_test,y_pred))\n",
        "\n",
        "print('AVerage MAE: ', mean(mae))\n",
        "print('AVerage R2: ', mean(r2))"
      ],
      "execution_count": null,
      "outputs": [
        {
          "output_type": "stream",
          "text": [
            "AVerage MAE:  0.5177986732538935\n",
            "AVerage R2:  0.5075939118792308\n"
          ],
          "name": "stdout"
        }
      ]
    },
    {
      "cell_type": "code",
      "metadata": {
        "colab": {
          "base_uri": "https://localhost:8080/"
        },
        "id": "CULi3vpgPqPn",
        "outputId": "5fc66db9-70bf-44d8-92bd-410d6399cf21"
      },
      "source": [
        "from sklearn.ensemble import RandomForestRegressor\n",
        "max_depth=[10,30]\n",
        "\n",
        "for j in max_depth:\n",
        "  mae = []\n",
        "  r2 = []\n",
        "  print(\"max_depth:\",j)\n",
        "  for i in range(100):\n",
        "      x_train, x_test, y_train, y_test = train_test_split(x, y, test_size=0.33)\n",
        "\n",
        "      reg = RandomForestRegressor(max_depth=j, random_state=0).fit(x_train, y_train)\n",
        "      y_pred = reg.predict(x_test)\n",
        "\n",
        "\n",
        "      mae.append(mean_absolute_error(y_test,y_pred))\n",
        "      r2.append(r2_score(y_test,y_pred))\n",
        "\n",
        "  print('AVerage MAE: ', mean(mae))\n",
        "  print('AVerage R2: ', mean(r2))"
      ],
      "execution_count": null,
      "outputs": [
        {
          "output_type": "stream",
          "text": [
            "max_depth: 10\n",
            "AVerage MAE:  0.4597242947480158\n",
            "AVerage R2:  0.5924234626530235\n",
            "max_depth: 30\n",
            "AVerage MAE:  0.4324197634437555\n",
            "AVerage R2:  0.6381586289733837\n"
          ],
          "name": "stdout"
        }
      ]
    },
    {
      "cell_type": "code",
      "metadata": {
        "colab": {
          "base_uri": "https://localhost:8080/"
        },
        "id": "C1NPYtwSPwNM",
        "outputId": "f6b901bf-3723-4445-9790-93eeb712ca36"
      },
      "source": [
        "from sklearn.ensemble import AdaBoostRegressor\n",
        "mae = []\n",
        "r2 = []\n",
        "for i in range(100):\n",
        "    x_train, x_test, y_train, y_test = train_test_split(x, y, test_size=0.33)\n",
        "\n",
        "    reg = AdaBoostRegressor(random_state=0, n_estimators=300).fit(x_train, y_train)\n",
        "    y_pred = reg.predict(x_test)\n",
        "\n",
        "\n",
        "    mae.append(mean_absolute_error(y_test,y_pred))\n",
        "    r2.append(r2_score(y_test,y_pred))\n",
        "\n",
        "print('AVerage MAE: ', mean(mae))\n",
        "print('AVerage R2: ', mean(r2))"
      ],
      "execution_count": null,
      "outputs": [
        {
          "output_type": "stream",
          "text": [
            "AVerage MAE:  0.592327642428607\n",
            "AVerage R2:  0.41962156513536775\n"
          ],
          "name": "stdout"
        }
      ]
    },
    {
      "cell_type": "code",
      "metadata": {
        "colab": {
          "base_uri": "https://localhost:8080/"
        },
        "id": "sUr8httnSZwN",
        "outputId": "1629f025-a9d3-444c-f3ba-847430966f21"
      },
      "source": [
        "from sklearn.ensemble import GradientBoostingRegressor\n",
        "mae = []\n",
        "r2 = []\n",
        "for i in range(100):\n",
        "    x_train, x_test, y_train, y_test = train_test_split(x, y, test_size=0.33)\n",
        "\n",
        "    reg = GradientBoostingRegressor(random_state=0).fit(x_train, y_train)\n",
        "    y_pred = reg.predict(x_test)\n",
        "\n",
        "\n",
        "    mae.append(mean_absolute_error(y_test,y_pred))\n",
        "    r2.append(r2_score(y_test,y_pred))\n",
        "\n",
        "print('AVerage MAE: ', mean(mae))\n",
        "print('AVerage R2: ', mean(r2))"
      ],
      "execution_count": null,
      "outputs": [
        {
          "output_type": "stream",
          "text": [
            "AVerage MAE:  0.4815569723139085\n",
            "AVerage R2:  0.5598003223121665\n"
          ],
          "name": "stdout"
        }
      ]
    },
    {
      "cell_type": "code",
      "metadata": {
        "colab": {
          "base_uri": "https://localhost:8080/"
        },
        "id": "nAZ9MiK8Uy8M",
        "outputId": "3b427a63-6605-4447-baa8-0802decddb48"
      },
      "source": [
        "from sklearn.linear_model import ElasticNet\n",
        "mae = []\n",
        "r2 = []\n",
        "for i in range(100):\n",
        "    x_train, x_test, y_train, y_test = train_test_split(x, y, test_size=0.33)\n",
        "\n",
        "    reg = ElasticNet(random_state=0, alpha=0.0006).fit(x_train, y_train)\n",
        "    y_pred = reg.predict(x_test)\n",
        "\n",
        "\n",
        "    mae.append(mean_absolute_error(y_test,y_pred))\n",
        "    r2.append(r2_score(y_test,y_pred))\n",
        "\n",
        "print('AVerage MAE: ', mean(mae))\n",
        "print('AVerage R2: ', mean(r2))"
      ],
      "execution_count": null,
      "outputs": [
        {
          "output_type": "stream",
          "text": [
            "AVerage MAE:  0.516859099830733\n",
            "AVerage R2:  0.5084130943810516\n"
          ],
          "name": "stdout"
        }
      ]
    },
    {
      "cell_type": "code",
      "metadata": {
        "colab": {
          "base_uri": "https://localhost:8080/"
        },
        "id": "0xm1pNenVuGe",
        "outputId": "0c543172-6a9f-430b-f485-e2e1f932384a"
      },
      "source": [
        "from sklearn.neural_network import MLPRegressor\n",
        "\n",
        "mae = []\n",
        "r2 = []\n",
        "for i in range(100):\n",
        "    x_train, x_test, y_train, y_test = train_test_split(x, y, test_size=0.33)\n",
        "\n",
        "    reg = MLPRegressor(random_state=1, max_iter=500).fit(x_train, y_train)\n",
        "    y_pred = reg.predict(x_test)\n",
        "\n",
        "\n",
        "    mae.append(mean_absolute_error(y_test,y_pred))\n",
        "    r2.append(r2_score(y_test,y_pred))\n",
        "\n",
        "print('AVerage MAE: ', mean(mae))\n",
        "print('AVerage R2: ', mean(r2))"
      ],
      "execution_count": null,
      "outputs": [
        {
          "output_type": "stream",
          "text": [
            "AVerage MAE:  0.4753871983634586\n",
            "AVerage R2:  0.5758990440649601\n"
          ],
          "name": "stdout"
        }
      ]
    },
    {
      "cell_type": "code",
      "metadata": {
        "colab": {
          "base_uri": "https://localhost:8080/"
        },
        "id": "mPttjl8QWYjp",
        "outputId": "29559ee4-6b98-4927-c33f-27a45144843a"
      },
      "source": [
        "from sklearn.linear_model import RidgeCV\n",
        "\n",
        "mae = []\n",
        "r2 = []\n",
        "for i in range(100):\n",
        "    x_train, x_test, y_train, y_test = train_test_split(x, y, test_size=0.33)\n",
        "\n",
        "    reg = RidgeCV(alphas=[1e-6, 1e-2, 1e-1, 1]).fit(x_train, y_train)\n",
        "    y_pred = reg.predict(x_test)\n",
        "\n",
        "\n",
        "    mae.append(mean_absolute_error(y_test,y_pred))\n",
        "    r2.append(r2_score(y_test,y_pred))\n",
        "\n",
        "print('AVerage MAE: ', mean(mae))\n",
        "print('AVerage R2: ', mean(r2))"
      ],
      "execution_count": null,
      "outputs": [
        {
          "output_type": "stream",
          "text": [
            "AVerage MAE:  0.5177878097804369\n",
            "AVerage R2:  0.5064370643231545\n"
          ],
          "name": "stdout"
        }
      ]
    },
    {
      "cell_type": "code",
      "metadata": {
        "colab": {
          "base_uri": "https://localhost:8080/"
        },
        "id": "Ak2vJlJ3WYul",
        "outputId": "592482f3-70f2-4fef-850b-ab42a29649b1"
      },
      "source": [
        "from sklearn import linear_model\n",
        "\n",
        "mae = []\n",
        "r2 = []\n",
        "for i in range(100):\n",
        "    x_train, x_test, y_train, y_test = train_test_split(x, y, test_size=0.33)\n",
        "\n",
        "    reg = linear_model.BayesianRidge().fit(x_train, y_train)\n",
        "    y_pred = reg.predict(x_test)\n",
        "\n",
        "\n",
        "    mae.append(mean_absolute_error(y_test,y_pred))\n",
        "    r2.append(r2_score(y_test,y_pred))\n",
        "\n",
        "print('AVerage MAE: ', mean(mae))\n",
        "print('AVerage R2: ', mean(r2))"
      ],
      "execution_count": null,
      "outputs": [
        {
          "output_type": "stream",
          "text": [
            "AVerage MAE:  0.5176104925249471\n",
            "AVerage R2:  0.5082450754144795\n"
          ],
          "name": "stdout"
        }
      ]
    },
    {
      "cell_type": "code",
      "metadata": {
        "colab": {
          "base_uri": "https://localhost:8080/"
        },
        "id": "bST6HEsOWq54",
        "outputId": "f55287a2-ae3f-49fb-f377-4da492cf71f9"
      },
      "source": [
        "from sklearn import linear_model\n",
        "\n",
        "mae = []\n",
        "r2 = []\n",
        "for i in range(100):\n",
        "    x_train, x_test, y_train, y_test = train_test_split(x, y, test_size=0.33)\n",
        "\n",
        "    reg= linear_model.LassoLars(alpha=0).fit(x_train, y_train)\n",
        "    y_pred = reg.predict(x_test)\n",
        "\n",
        "\n",
        "    mae.append(mean_absolute_error(y_test,y_pred))\n",
        "    r2.append(r2_score(y_test,y_pred))\n",
        "\n",
        "print('AVerage MAE: ', mean(mae))\n",
        "print('AVerage R2: ', mean(r2))"
      ],
      "execution_count": null,
      "outputs": [
        {
          "output_type": "stream",
          "text": [
            "AVerage MAE:  0.5185742032010184\n",
            "AVerage R2:  0.5077027374034635\n"
          ],
          "name": "stdout"
        }
      ]
    },
    {
      "cell_type": "code",
      "metadata": {
        "colab": {
          "base_uri": "https://localhost:8080/"
        },
        "id": "nfW-D-oSWxwH",
        "outputId": "1007aa41-de9d-430d-d5a7-504a6d5ac9e5"
      },
      "source": [
        "from sklearn.neighbors import KNeighborsRegressor\n",
        "\n",
        "mae = []\n",
        "r2 = []\n",
        "for i in range(100):\n",
        "    x_train, x_test, y_train, y_test = train_test_split(x, y, test_size=0.33)\n",
        "\n",
        "    reg= KNeighborsRegressor(n_neighbors=7).fit(x_train, y_train)\n",
        "    y_pred = reg.predict(x_test)\n",
        "\n",
        "\n",
        "    mae.append(mean_absolute_error(y_test,y_pred))\n",
        "    r2.append(r2_score(y_test,y_pred))\n",
        "\n",
        "print('AVerage MAE: ', mean(mae))\n",
        "print('AVerage R2: ', mean(r2))"
      ],
      "execution_count": null,
      "outputs": [
        {
          "output_type": "stream",
          "text": [
            "AVerage MAE:  0.4983846797551274\n",
            "AVerage R2:  0.5236319714297641\n"
          ],
          "name": "stdout"
        }
      ]
    },
    {
      "cell_type": "code",
      "metadata": {
        "colab": {
          "base_uri": "https://localhost:8080/"
        },
        "id": "DfBIbDDzXW2j",
        "outputId": "bd6b71d6-3cbf-4f19-b882-9d8f40b0fe72"
      },
      "source": [
        "from sklearn.neighbors import KNeighborsRegressor\n",
        "\n",
        "mae = []\n",
        "r2 = []\n",
        "for i in range(100):\n",
        "    x_train, x_test, y_train, y_test = train_test_split(x, y, test_size=0.33)\n",
        "\n",
        "    reg= KNeighborsRegressor(n_neighbors=20).fit(x_train, y_train)\n",
        "    y_pred = reg.predict(x_test)\n",
        "\n",
        "\n",
        "    mae.append(mean_absolute_error(y_test,y_pred))\n",
        "    r2.append(r2_score(y_test,y_pred))\n",
        "\n",
        "print('AVerage MAE: ', mean(mae))\n",
        "print('AVerage R2: ', mean(r2))"
      ],
      "execution_count": null,
      "outputs": [
        {
          "output_type": "stream",
          "text": [
            "AVerage MAE:  0.486846899647694\n",
            "AVerage R2:  0.5461584852098098\n"
          ],
          "name": "stdout"
        }
      ]
    },
    {
      "cell_type": "code",
      "metadata": {
        "colab": {
          "base_uri": "https://localhost:8080/"
        },
        "id": "vGX7kn3rcjZx",
        "outputId": "92cdfa8c-78b9-4bac-ba9d-28d4f757ed2f"
      },
      "source": [
        "from sklearn.linear_model import Ridge\n",
        "\n",
        "mae = []\n",
        "r2 = []\n",
        "for i in range(100):\n",
        "    x_train, x_test, y_train, y_test = train_test_split(x, y, test_size=0.33)\n",
        "\n",
        "    reg = Ridge(alpha=1).fit(x_train, y_train)\n",
        "    y_pred = reg.predict(x_test)\n",
        "\n",
        "\n",
        "    mae.append(mean_absolute_error(y_test,y_pred))\n",
        "    r2.append(r2_score(y_test,y_pred))\n",
        "\n",
        "print('AVerage MAE: ', mean(mae))\n",
        "print('AVerage R2: ', mean(r2))"
      ],
      "execution_count": null,
      "outputs": [
        {
          "output_type": "stream",
          "text": [
            "AVerage MAE:  0.518300223467773\n",
            "AVerage R2:  0.5067271501976294\n"
          ],
          "name": "stdout"
        }
      ]
    },
    {
      "cell_type": "code",
      "metadata": {
        "colab": {
          "base_uri": "https://localhost:8080/"
        },
        "id": "lqpvOll5cn8y",
        "outputId": "93ba6eab-5a35-4101-98d8-6b18493832b4"
      },
      "source": [
        "from sklearn.linear_model import PassiveAggressiveRegressor\n",
        "mae = []\n",
        "r2 = []\n",
        "for i in range(100):\n",
        "    x_train, x_test, y_train, y_test = train_test_split(x, y, test_size=0.33)\n",
        "\n",
        "    reg = PassiveAggressiveRegressor(max_iter=100, random_state=0).fit(x_train, y_train)\n",
        "    y_pred = reg.predict(x_test)\n",
        "\n",
        "\n",
        "    mae.append(mean_absolute_error(y_test,y_pred))\n",
        "    r2.append(r2_score(y_test,y_pred))\n",
        "\n",
        "print('AVerage MAE: ', mean(mae))\n",
        "print('AVerage R2: ', mean(r2))"
      ],
      "execution_count": null,
      "outputs": [
        {
          "output_type": "stream",
          "text": [
            "AVerage MAE:  0.7248774892560973\n",
            "AVerage R2:  0.08109542890356491\n"
          ],
          "name": "stdout"
        }
      ]
    },
    {
      "cell_type": "code",
      "metadata": {
        "colab": {
          "base_uri": "https://localhost:8080/"
        },
        "id": "hWIVnYdWcrr2",
        "outputId": "08863c7a-044f-4dab-913f-e1a205511d39"
      },
      "source": [
        "from sklearn import linear_model\n",
        "mae = []\n",
        "r2 = []\n",
        "for i in range(100):\n",
        "    x_train, x_test, y_train, y_test = train_test_split(x, y, test_size=0.33)\n",
        "\n",
        "    reg = linear_model.Lasso(alpha=0.0001).fit(x_train, y_train)\n",
        "    y_pred = reg.predict(x_test)\n",
        "\n",
        "\n",
        "    mae.append(mean_absolute_error(y_test,y_pred))\n",
        "    r2.append(r2_score(y_test,y_pred))\n",
        "\n",
        "print('AVerage MAE: ', mean(mae))\n",
        "print('AVerage R2: ', mean(r2))"
      ],
      "execution_count": null,
      "outputs": [
        {
          "output_type": "stream",
          "text": [
            "AVerage MAE:  0.5182286595262315\n",
            "AVerage R2:  0.5076540985395571\n"
          ],
          "name": "stdout"
        }
      ]
    },
    {
      "cell_type": "markdown",
      "metadata": {
        "id": "CC3jD0HoZFqE"
      },
      "source": [
        "# **Classification Models**"
      ]
    },
    {
      "cell_type": "code",
      "metadata": {
        "id": "SI48vsiloJGC"
      },
      "source": [
        "y=tracks['clf_pop']\n",
        "x=tracks.drop(['popularity','clf_pop'],axis=1)"
      ],
      "execution_count": null,
      "outputs": []
    },
    {
      "cell_type": "code",
      "metadata": {
        "id": "l5wZ9xdVoXjr"
      },
      "source": [
        "from sklearn.metrics import f1_score\n",
        "from sklearn.metrics import log_loss\n",
        "from sklearn.tree import DecisionTreeClassifier\n",
        "\n",
        "max_depth=[5,10,15,20,25,30]\n",
        "\n",
        "f1 = []\n",
        "llog = []\n",
        "for j in max_depth:\n",
        "  ll=[]\n",
        "  ff=[]\n",
        "  for i in range(100):\n",
        "    x_train, x_test, y_train, y_test = train_test_split(x, y, test_size=0.33)\n",
        "    clf = DecisionTreeClassifier(max_depth=j).fit(x_train,y_train)\n",
        "    y_pred = clf.predict(x_test)\n",
        "\n",
        "    l11 = log_loss(y_test, clf.predict_proba(x_test))\n",
        "    f11 = f1_score(y_test, y_pred,average='micro')\n",
        "    ll.append(l11)\n",
        "    ff.append(f11)\n",
        "\n",
        "  f1.append([j,mean(ff)])\n",
        "  llog.append([j,mean(ll)])\n",
        "\n"
      ],
      "execution_count": null,
      "outputs": []
    },
    {
      "cell_type": "code",
      "metadata": {
        "colab": {
          "base_uri": "https://localhost:8080/"
        },
        "id": "bzYCoZfM2jI9",
        "outputId": "3c357a0d-fe88-4a4d-c561-3045ffb96351"
      },
      "source": [
        "f1"
      ],
      "execution_count": null,
      "outputs": [
        {
          "output_type": "execute_result",
          "data": {
            "text/plain": [
              "[[5, 0.6866961520289779],\n",
              " [10, 0.709243267363116],\n",
              " [15, 0.6990918158433513],\n",
              " [20, 0.6686571473568166],\n",
              " [25, 0.6445220221533938],\n",
              " [30, 0.6352695679563232]]"
            ]
          },
          "metadata": {
            "tags": []
          },
          "execution_count": 146
        }
      ]
    },
    {
      "cell_type": "code",
      "metadata": {
        "colab": {
          "base_uri": "https://localhost:8080/"
        },
        "id": "gytC-Lfk2mJv",
        "outputId": "b373132d-8807-4647-db65-628d0f0f630a"
      },
      "source": [
        "llog"
      ],
      "execution_count": null,
      "outputs": [
        {
          "output_type": "execute_result",
          "data": {
            "text/plain": [
              "[[5, 0.6960028333673374],\n",
              " [10, 0.7100518532186579],\n",
              " [15, 2.047385240083293],\n",
              " [20, 6.0514829680467725],\n",
              " [25, 10.020895258725018],\n",
              " [30, 11.854179187786988]]"
            ]
          },
          "metadata": {
            "tags": []
          },
          "execution_count": 147
        }
      ]
    },
    {
      "cell_type": "code",
      "metadata": {
        "id": "yGl1E1MS3yY9"
      },
      "source": [
        "from sklearn.metrics import f1_score\n",
        "from sklearn.metrics import log_loss\n",
        "from sklearn.ensemble import RandomForestClassifier\n",
        "\n",
        "n_estimator=[50,100,150,250]\n",
        "\n",
        "f1 = []\n",
        "llog = []\n",
        "for j in n_estimator:\n",
        "  ll=[]\n",
        "  ff=[]\n",
        "  for i in range(100):\n",
        "    x_train, x_test, y_train, y_test = train_test_split(x, y, test_size=0.33)\n",
        "    clf = RandomForestClassifier(n_estimators=j,max_features='auto').fit(x_train,y_train)\n",
        "    y_pred = clf.predict(x_test)\n",
        "\n",
        "    l11 = log_loss(y_test, clf.predict_proba(x_test))\n",
        "    f11 = f1_score(y_test, y_pred,average='micro')\n",
        "\n",
        "    ll.append(l11)\n",
        "    ff.append(f11)\n",
        "\n",
        "  f1.append([j,mean(ff)])\n",
        "  llog.append([j,mean(ll)])"
      ],
      "execution_count": null,
      "outputs": []
    },
    {
      "cell_type": "code",
      "metadata": {
        "colab": {
          "base_uri": "https://localhost:8080/"
        },
        "id": "jr531DUS7t4I",
        "outputId": "83d5b983-7bee-4567-a35b-952f6a9df0de"
      },
      "source": [
        "f1"
      ],
      "execution_count": null,
      "outputs": [
        {
          "output_type": "execute_result",
          "data": {
            "text/plain": [
              "[[50, 0.8237309045094231],\n",
              " [100, 0.8262113496771484],\n",
              " [150, 0.8271103469998425],\n",
              " [250, 0.8265328888655572]]"
            ]
          },
          "metadata": {
            "tags": []
          },
          "execution_count": 12
        }
      ]
    },
    {
      "cell_type": "code",
      "metadata": {
        "colab": {
          "base_uri": "https://localhost:8080/"
        },
        "id": "OcGj0Z6I7wnq",
        "outputId": "a80014d7-c466-4f87-9e74-a89c4477b320"
      },
      "source": [
        "llog"
      ],
      "execution_count": null,
      "outputs": [
        {
          "output_type": "execute_result",
          "data": {
            "text/plain": [
              "[[50, 0.4761518287690136],\n",
              " [100, 0.4475685246770578],\n",
              " [150, 0.4391527183139248],\n",
              " [250, 0.43592974017327285]]"
            ]
          },
          "metadata": {
            "tags": []
          },
          "execution_count": 13
        }
      ]
    },
    {
      "cell_type": "code",
      "metadata": {
        "colab": {
          "base_uri": "https://localhost:8080/"
        },
        "id": "c9y9_Psm9Eny",
        "outputId": "bb1a6de0-5ba5-4e44-faed-89d0af83485b"
      },
      "source": [
        "from sklearn.metrics import f1_score\n",
        "from sklearn.metrics import log_loss\n",
        "from sklearn.ensemble import BaggingClassifier\n",
        "\n",
        "n_estimator=[50,100,150,250]\n",
        "\n",
        "f1 = []\n",
        "llog = []\n",
        "for j in n_estimator:\n",
        "  ff=[]\n",
        "  ll=[]\n",
        "  for i in range(100):\n",
        "    x_train, x_test, y_train, y_test = train_test_split(x, y, test_size=0.33)\n",
        "    clf = BaggingClassifier(n_estimators=j).fit(x_train,y_train)\n",
        "    y_pred = clf.predict(x_test)\n",
        "\n",
        "    l11 = log_loss(y_test, clf.predict_proba(x_test))\n",
        "    f11 = f1_score(y_test, y_pred,average='micro')\n",
        "\n",
        "    ff.append(f11)\n",
        "    ll.append(l11)\n",
        "\n",
        "  f1.append([j,mean(ff)])\n",
        "  llog.append([j,mean(ll)])\n",
        "\n"
      ],
      "execution_count": null,
      "outputs": [
        {
          "output_type": "stream",
          "text": [
            "50\n",
            "f_score: 0.859657987295921\n",
            "log_loss: 0.43182174163605214\n",
            "100\n",
            "f_score: 0.8609441440495564\n",
            "log_loss: 0.3867241637029074\n",
            "150\n",
            "f_score: 0.8621974906819255\n",
            "log_loss: 0.37915556506835235\n",
            "200\n",
            "f_score: 0.8608588377342643\n",
            "log_loss: 0.3709058714167836\n",
            "250\n",
            "f_score: 0.8616134705233872\n",
            "log_loss: 0.36271532864289247\n"
          ],
          "name": "stdout"
        }
      ]
    },
    {
      "cell_type": "code",
      "metadata": {
        "colab": {
          "base_uri": "https://localhost:8080/"
        },
        "id": "rtO7gl1QvAsN",
        "outputId": "38709261-a083-4f68-c817-a406826c3de4"
      },
      "source": [
        "from sklearn.metrics import f1_score\n",
        "from sklearn.metrics import log_loss\n",
        "from sklearn.naive_bayes import GaussianNB\n",
        "ff = []\n",
        "ll = []\n",
        "\n",
        "\n",
        "for i in range(100):\n",
        "  x_train, x_test, y_train, y_test = train_test_split(x, y, test_size=0.33)\n",
        "  clf = GaussianNB().fit(x_train,y_train)\n",
        "  y_pred = clf.predict(x_test)\n",
        "\n",
        "  l11 = log_loss(y_test, clf.predict_proba(x_test))\n",
        "  f11 = f1_score(y_test, y_pred,average='micro')\n",
        "\n",
        "  ff.append(f11)\n",
        "  ll.append(l11)\n",
        "\n",
        "print(\"f1_score:\",mean(ff))\n",
        "print(\"log_loss:\",mean(ll))"
      ],
      "execution_count": null,
      "outputs": [
        {
          "output_type": "stream",
          "text": [
            "log_loss: 0.9011662522063414\n",
            "f1_score: 0.6040737046564124\n"
          ],
          "name": "stdout"
        }
      ]
    },
    {
      "cell_type": "code",
      "metadata": {
        "id": "r17QNAQgxkNS"
      },
      "source": [
        "from sklearn.metrics import f1_score\n",
        "from sklearn.metrics import log_loss\n",
        "from sklearn.neighbors import KNeighborsClassifier\n",
        "\n",
        "n_neighbors=[5,10,20,30,40,50,100]\n",
        "\n",
        "f1 = []\n",
        "llog = []\n",
        "for s in range(1,5,1):\n",
        "  for j in n_neighbors:\n",
        "    for i in range(100):\n",
        "      ff=[]\n",
        "      ll=[]\n",
        "\n",
        "      x_train, x_test, y_train, y_test = train_test_split(x, y, test_size=0.33)\n",
        "      clf = KNeighborsClassifier(n_neighbors=j,p=s,weights='uniform').fit(x_train,y_train)\n",
        "      y_pred = clf.predict(x_test)\n",
        "\n",
        "      l11 = log_loss(y_test, clf.predict_proba(x_test))\n",
        "      f11 = f1_score(y_test, y_pred,average='micro')\n",
        "\n",
        "      ff.append(f11)\n",
        "      ll.append(l11)\n",
        "\n",
        "    f1.append([s,j,mean(ff)])\n",
        "    llog.append([s,j,mean(ll)])"
      ],
      "execution_count": null,
      "outputs": []
    },
    {
      "cell_type": "code",
      "metadata": {
        "colab": {
          "base_uri": "https://localhost:8080/"
        },
        "id": "FjqHMwOGkfOi",
        "outputId": "2eb9fb78-f890-4f78-f2ac-7795346e1f2a"
      },
      "source": [
        "f1"
      ],
      "execution_count": null,
      "outputs": [
        {
          "output_type": "execute_result",
          "data": {
            "text/plain": [
              "[[1, 5, 0.8359165835476928],\n",
              " [1, 10, 0.8350175862249987],\n",
              " [1, 20, 0.8264410205260119],\n",
              " [1, 30, 0.8201217911701402],\n",
              " [1, 40, 0.814931229985826],\n",
              " [1, 50, 0.8086120006299543],\n",
              " [1, 100, 0.7905073757152608],\n",
              " [2, 5, 0.8162961310305002],\n",
              " [2, 10, 0.8177594624389731],\n",
              " [2, 20, 0.8172345004987138],\n",
              " [2, 30, 0.8137238175232295],\n",
              " [2, 40, 0.806918998372618],\n",
              " [2, 50, 0.8044385532048927],\n",
              " [2, 100, 0.789214656937372],\n",
              " [3, 5, 0.8105806079059268],\n",
              " [3, 10, 0.8162370728122211],\n",
              " [3, 20, 0.8163683132972859],\n",
              " [3, 30, 0.8131594834374507],\n",
              " [3, 40, 0.8074242742401176],\n",
              " [3, 50, 0.8055672213764502],\n",
              " [3, 100, 0.7881581710326001],\n",
              " [4, 5, 0.8098719092865767],\n",
              " [4, 10, 0.8155611843141373],\n",
              " [4, 20, 0.8171491941834217],\n",
              " [4, 30, 0.8139666124205995],\n",
              " [4, 40, 0.8090122841094021],\n",
              " [4, 50, 0.8035264318336921],\n",
              " [4, 100, 0.7878891280382173]]"
            ]
          },
          "metadata": {
            "tags": []
          },
          "execution_count": 12
        }
      ]
    },
    {
      "cell_type": "code",
      "metadata": {
        "colab": {
          "base_uri": "https://localhost:8080/"
        },
        "id": "XjaW3i1okmPY",
        "outputId": "46b92f6e-db13-4225-bd52-2a8723951931"
      },
      "source": [
        "llog"
      ],
      "execution_count": null,
      "outputs": [
        {
          "output_type": "execute_result",
          "data": {
            "text/plain": [
              "[[1, 5, 1.407586866435547],\n",
              " [1, 10, 0.8343618935600418],\n",
              " [1, 20, 0.5928831400405417],\n",
              " [1, 30, 0.5200888651918963],\n",
              " [1, 40, 0.5026668811656263],\n",
              " [1, 50, 0.49951199226941645],\n",
              " [1, 100, 0.5001029695193588],\n",
              " [2, 5, 1.599419961694359],\n",
              " [2, 10, 0.8879667081742469],\n",
              " [2, 20, 0.6079502725311152],\n",
              " [2, 30, 0.5385184082663393],\n",
              " [2, 40, 0.517645450617657],\n",
              " [2, 50, 0.502605797728059],\n",
              " [2, 100, 0.5015402625922539],\n",
              " [3, 5, 1.6242957017849393],\n",
              " [3, 10, 0.8963938744971613],\n",
              " [3, 20, 0.6120195406782689],\n",
              " [3, 30, 0.534114993873971],\n",
              " [3, 40, 0.5126291691923731],\n",
              " [3, 50, 0.49090685664491623],\n",
              " [3, 100, 0.50734469310273],\n",
              " [4, 5, 1.6451340523291107],\n",
              " [4, 10, 0.9107568992234194],\n",
              " [4, 20, 0.599595361235576],\n",
              " [4, 30, 0.5344195474759219],\n",
              " [4, 40, 0.5079964992639184],\n",
              " [4, 50, 0.5002920347116744],\n",
              " [4, 100, 0.5049368489784931]]"
            ]
          },
          "metadata": {
            "tags": []
          },
          "execution_count": 13
        }
      ]
    },
    {
      "cell_type": "code",
      "metadata": {
        "id": "-c7MHsDAeNgh"
      },
      "source": [
        "from sklearn.metrics import f1_score\n",
        "from sklearn.metrics import log_loss\n",
        "from sklearn.neighbors import KNeighborsClassifier\n",
        "\n",
        "n_neighbors=[5,10,20,30,40,50,100]\n",
        "\n",
        "f1 = []\n",
        "llog = []\n",
        "for s in range(1,5,1):\n",
        "  for j in n_neighbors:\n",
        "    for i in range(100):\n",
        "      ff=[]\n",
        "      ll=[]\n",
        "\n",
        "      x_train, x_test, y_train, y_test = train_test_split(x, y, test_size=0.33)\n",
        "      clf = KNeighborsClassifier(n_neighbors=j,p=s,weights='distance').fit(x_train,y_train)\n",
        "      y_pred = clf.predict(x_test)\n",
        "\n",
        "      l11 = log_loss(y_test, clf.predict_proba(x_test))\n",
        "      f11 = f1_score(y_test, y_pred,average='micro')\n",
        "\n",
        "      ff.append(f11)\n",
        "      ll.append(l11)\n",
        "\n",
        "    f1.append([s,j,mean(ff)])\n",
        "    llog.append([s,j,mean(ll)])"
      ],
      "execution_count": null,
      "outputs": []
    },
    {
      "cell_type": "code",
      "metadata": {
        "colab": {
          "base_uri": "https://localhost:8080/"
        },
        "id": "h02lnSSYo1Lm",
        "outputId": "85c5a716-7087-4e5a-81b5-b3b82b0821f5"
      },
      "source": [
        "f1"
      ],
      "execution_count": null,
      "outputs": [
        {
          "output_type": "execute_result",
          "data": {
            "text/plain": [
              "[[1, 5, 0.8398406740511313],\n",
              " [1, 10, 0.8415992965510001],\n",
              " [1, 20, 0.8382132920363273],\n",
              " [1, 30, 0.8347354191821093],\n",
              " [1, 40, 0.8326880676150978],\n",
              " [1, 50, 0.8291905086881202],\n",
              " [1, 100, 0.8186847078586802],\n",
              " [2, 5, 0.8202661557037115],\n",
              " [2, 10, 0.8245117853955588],\n",
              " [2, 20, 0.8269659824662712],\n",
              " [2, 30, 0.8251417397238702],\n",
              " [2, 40, 0.8258570003674733],\n",
              " [2, 50, 0.8232978109087091],\n",
              " [2, 100, 0.8190456191926085],\n",
              " [3, 5, 0.8143275237545278],\n",
              " [3, 10, 0.8194065305265369],\n",
              " [3, 20, 0.8240786917948448],\n",
              " [3, 30, 0.8231534463751378],\n",
              " [3, 40, 0.8220313402278335],\n",
              " [3, 50, 0.8234881096120531],\n",
              " [3, 100, 0.8194590267205628],\n",
              " [4, 5, 0.8105871699301801],\n",
              " [4, 10, 0.8205614467951075],\n",
              " [4, 20, 0.8213620137540028],\n",
              " [4, 30, 0.8235537298545854],\n",
              " [4, 40, 0.8219722820095543],\n",
              " [4, 50, 0.821880413670009],\n",
              " [4, 100, 0.8187175179799465]]"
            ]
          },
          "metadata": {
            "tags": []
          },
          "execution_count": 15
        }
      ]
    },
    {
      "cell_type": "code",
      "metadata": {
        "colab": {
          "base_uri": "https://localhost:8080/"
        },
        "id": "nnf06tYdo4Ih",
        "outputId": "27e1e601-8a07-4bd7-f358-a4bed383a168"
      },
      "source": [
        "llog"
      ],
      "execution_count": null,
      "outputs": [
        {
          "output_type": "execute_result",
          "data": {
            "text/plain": [
              "[[1, 5, 1.4475896565185622],\n",
              " [1, 10, 0.8332622304631839],\n",
              " [1, 20, 0.561908850188584],\n",
              " [1, 30, 0.4978083164680387],\n",
              " [1, 40, 0.47595003663248225],\n",
              " [1, 50, 0.46394879258758703],\n",
              " [1, 100, 0.44883273759329045],\n",
              " [2, 5, 1.5887005180865283],\n",
              " [2, 10, 0.8786849639636736],\n",
              " [2, 20, 0.587611398796278],\n",
              " [2, 30, 0.5093272717508046],\n",
              " [2, 40, 0.4719826369028079],\n",
              " [2, 50, 0.4670989644587384],\n",
              " [2, 100, 0.4443422511750187],\n",
              " [3, 5, 1.6161084682412057],\n",
              " [3, 10, 0.8894518871490702],\n",
              " [3, 20, 0.5889419526307699],\n",
              " [3, 30, 0.510375257063568],\n",
              " [3, 40, 0.4832108607169544],\n",
              " [3, 50, 0.4640880368914568],\n",
              " [3, 100, 0.43896454648110744],\n",
              " [4, 5, 1.6273483757543352],\n",
              " [4, 10, 0.9012302253427381],\n",
              " [4, 20, 0.5969626333901962],\n",
              " [4, 30, 0.5245160121011612],\n",
              " [4, 40, 0.4770338385077896],\n",
              " [4, 50, 0.4666184918102429],\n",
              " [4, 100, 0.4386544751647056]]"
            ]
          },
          "metadata": {
            "tags": []
          },
          "execution_count": 16
        }
      ]
    }
  ]
}